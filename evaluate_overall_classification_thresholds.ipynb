{
 "cells": [
  {
   "cell_type": "markdown",
   "id": "3161db0f-e09f-41fb-92d7-2e0d9ef1039b",
   "metadata": {},
   "source": [
    "# Evaluate overall classification thresholds"
   ]
  },
  {
   "cell_type": "code",
   "execution_count": 1,
   "id": "423b42bd-f4a0-4f07-8ba4-123929e9e443",
   "metadata": {},
   "outputs": [],
   "source": [
    "import os\n",
    "import numpy as np\n",
    "import pandas as pd\n",
    "from sklearn.metrics import accuracy_score\n",
    "import matplotlib.pyplot as plt\n",
    "import seaborn as sns"
   ]
  },
  {
   "cell_type": "code",
   "execution_count": 2,
   "id": "37773f4a-7f32-4cdf-a90b-f86f4d3d9c6f",
   "metadata": {},
   "outputs": [],
   "source": [
    "%matplotlib inline"
   ]
  },
  {
   "cell_type": "code",
   "execution_count": 3,
   "id": "8764600f-c2f0-4369-9047-fb0f795ed969",
   "metadata": {},
   "outputs": [],
   "source": [
    "sns.set_theme()"
   ]
  },
  {
   "cell_type": "code",
   "execution_count": 4,
   "id": "0746bcb1-b087-4020-8a18-6c49c3224056",
   "metadata": {},
   "outputs": [],
   "source": [
    "thresholds = np.arange(0.1,1.1,0.1)"
   ]
  },
  {
   "cell_type": "code",
   "execution_count": 5,
   "id": "00cac411-6922-44dd-b229-88263d283441",
   "metadata": {},
   "outputs": [],
   "source": [
    "def calculate_accuracies(labels, class_probabilities, thresholds):\n",
    "    true_labels = list(labels)\n",
    "    accuracies = []\n",
    "    for threshold in thresholds:\n",
    "        predicted_labels = [1 if i >= threshold else 0 for i in list(class_probabilities)]\n",
    "        accuracy = round(accuracy_score(true_labels, predicted_labels), 2)\n",
    "        accuracies.append(accuracy)\n",
    "        print(round(threshold, 1), accuracy)\n",
    "    return accuracies"
   ]
  },
  {
   "cell_type": "code",
   "execution_count": 6,
   "id": "217207ff-04ba-4ab4-924a-8f13e2752f05",
   "metadata": {},
   "outputs": [],
   "source": [
    "def plot_accuracies(model_name, accuracies, thresholds, test_set_size):\n",
    "    plt.plot(thresholds, accuracies, marker='o')\n",
    "    plt.xticks(thresholds)\n",
    "    plt.xlabel('Threshold')\n",
    "    plt.ylabel('Accuracy')\n",
    "    plt.title(f'Test set accuracy at different classification thresholds for {model_name}\\nTest set size: {test_set_size}')\n",
    "    plt.show()"
   ]
  },
  {
   "cell_type": "markdown",
   "id": "f70aa56c-0c60-426d-ab82-97af2540aa03",
   "metadata": {
    "tags": []
   },
   "source": [
    "## Evaluate random forest\n",
    "\n",
    "Data used for training: KAZABengoCrop2020Random20000\n",
    "\n",
    "Run this [script](https://github.com/alexvmt/farm_plot_detection/blob/main/earth_engine_scripts/random_forest_kaza_bengo_crop_2020.js) in Google Earth Engine to export the desired class probablities. Then, download them from Google Drive and copy them to the correct directory."
   ]
  },
  {
   "cell_type": "code",
   "execution_count": 7,
   "id": "cc6efc99-168a-4c1e-92c0-603a9946b92b",
   "metadata": {},
   "outputs": [],
   "source": [
    "directory = '../processed_data/classification_threshold_evaluation/random_forest'"
   ]
  },
  {
   "cell_type": "markdown",
   "id": "d3c5edbe-8209-4a0d-a390-656fa5353d6a",
   "metadata": {},
   "source": [
    "### Load test set labels and predicted test set class probabilities"
   ]
  },
  {
   "cell_type": "code",
   "execution_count": 8,
   "id": "86c7ff59-0c86-413d-b7f0-3bde6c33d0fb",
   "metadata": {},
   "outputs": [
    {
     "data": {
      "text/html": [
       "<div>\n",
       "<style scoped>\n",
       "    .dataframe tbody tr th:only-of-type {\n",
       "        vertical-align: middle;\n",
       "    }\n",
       "\n",
       "    .dataframe tbody tr th {\n",
       "        vertical-align: top;\n",
       "    }\n",
       "\n",
       "    .dataframe thead th {\n",
       "        text-align: right;\n",
       "    }\n",
       "</style>\n",
       "<table border=\"1\" class=\"dataframe\">\n",
       "  <thead>\n",
       "    <tr style=\"text-align: right;\">\n",
       "      <th></th>\n",
       "      <th>system:index</th>\n",
       "      <th>B2</th>\n",
       "      <th>B3</th>\n",
       "      <th>B4</th>\n",
       "      <th>B8</th>\n",
       "      <th>NDVI</th>\n",
       "      <th>classification</th>\n",
       "      <th>crop</th>\n",
       "      <th>.geo</th>\n",
       "    </tr>\n",
       "  </thead>\n",
       "  <tbody>\n",
       "    <tr>\n",
       "      <th>0</th>\n",
       "      <td>00000000000000003e80_0</td>\n",
       "      <td>0.012521</td>\n",
       "      <td>0.013921</td>\n",
       "      <td>0.011386</td>\n",
       "      <td>0.011879</td>\n",
       "      <td>0.013986</td>\n",
       "      <td>0.022450</td>\n",
       "      <td>0</td>\n",
       "      <td>{\"type\":\"MultiPoint\",\"coordinates\":[]}</td>\n",
       "    </tr>\n",
       "    <tr>\n",
       "      <th>1</th>\n",
       "      <td>00000000000000003e85_0</td>\n",
       "      <td>0.029833</td>\n",
       "      <td>0.044433</td>\n",
       "      <td>0.038533</td>\n",
       "      <td>0.220833</td>\n",
       "      <td>0.702531</td>\n",
       "      <td>0.195416</td>\n",
       "      <td>0</td>\n",
       "      <td>{\"type\":\"MultiPoint\",\"coordinates\":[]}</td>\n",
       "    </tr>\n",
       "    <tr>\n",
       "      <th>2</th>\n",
       "      <td>00000000000000003e87_0</td>\n",
       "      <td>0.033800</td>\n",
       "      <td>0.058050</td>\n",
       "      <td>0.046600</td>\n",
       "      <td>0.258000</td>\n",
       "      <td>0.694182</td>\n",
       "      <td>0.084837</td>\n",
       "      <td>0</td>\n",
       "      <td>{\"type\":\"MultiPoint\",\"coordinates\":[]}</td>\n",
       "    </tr>\n",
       "    <tr>\n",
       "      <th>3</th>\n",
       "      <td>00000000000000003e89_0</td>\n",
       "      <td>0.037100</td>\n",
       "      <td>0.056600</td>\n",
       "      <td>0.054800</td>\n",
       "      <td>0.223867</td>\n",
       "      <td>0.607035</td>\n",
       "      <td>0.256949</td>\n",
       "      <td>0</td>\n",
       "      <td>{\"type\":\"MultiPoint\",\"coordinates\":[]}</td>\n",
       "    </tr>\n",
       "    <tr>\n",
       "      <th>4</th>\n",
       "      <td>00000000000000003e8b_0</td>\n",
       "      <td>0.027350</td>\n",
       "      <td>0.044075</td>\n",
       "      <td>0.044575</td>\n",
       "      <td>0.215150</td>\n",
       "      <td>0.656845</td>\n",
       "      <td>0.073527</td>\n",
       "      <td>0</td>\n",
       "      <td>{\"type\":\"MultiPoint\",\"coordinates\":[]}</td>\n",
       "    </tr>\n",
       "    <tr>\n",
       "      <th>...</th>\n",
       "      <td>...</td>\n",
       "      <td>...</td>\n",
       "      <td>...</td>\n",
       "      <td>...</td>\n",
       "      <td>...</td>\n",
       "      <td>...</td>\n",
       "      <td>...</td>\n",
       "      <td>...</td>\n",
       "      <td>...</td>\n",
       "    </tr>\n",
       "    <tr>\n",
       "      <th>3995</th>\n",
       "      <td>00000000000000004e12_0</td>\n",
       "      <td>0.091667</td>\n",
       "      <td>0.123289</td>\n",
       "      <td>0.150733</td>\n",
       "      <td>0.292356</td>\n",
       "      <td>0.319329</td>\n",
       "      <td>0.790826</td>\n",
       "      <td>1</td>\n",
       "      <td>{\"type\":\"MultiPoint\",\"coordinates\":[]}</td>\n",
       "    </tr>\n",
       "    <tr>\n",
       "      <th>3996</th>\n",
       "      <td>00000000000000004e16_0</td>\n",
       "      <td>0.061860</td>\n",
       "      <td>0.082040</td>\n",
       "      <td>0.094260</td>\n",
       "      <td>0.191520</td>\n",
       "      <td>0.340977</td>\n",
       "      <td>0.454751</td>\n",
       "      <td>1</td>\n",
       "      <td>{\"type\":\"MultiPoint\",\"coordinates\":[]}</td>\n",
       "    </tr>\n",
       "    <tr>\n",
       "      <th>3997</th>\n",
       "      <td>00000000000000004e18_0</td>\n",
       "      <td>0.058160</td>\n",
       "      <td>0.086840</td>\n",
       "      <td>0.108380</td>\n",
       "      <td>0.253440</td>\n",
       "      <td>0.403410</td>\n",
       "      <td>0.610969</td>\n",
       "      <td>1</td>\n",
       "      <td>{\"type\":\"MultiPoint\",\"coordinates\":[]}</td>\n",
       "    </tr>\n",
       "    <tr>\n",
       "      <th>3998</th>\n",
       "      <td>00000000000000004e1b_0</td>\n",
       "      <td>0.045850</td>\n",
       "      <td>0.063750</td>\n",
       "      <td>0.066250</td>\n",
       "      <td>0.226650</td>\n",
       "      <td>0.547808</td>\n",
       "      <td>0.243752</td>\n",
       "      <td>1</td>\n",
       "      <td>{\"type\":\"MultiPoint\",\"coordinates\":[]}</td>\n",
       "    </tr>\n",
       "    <tr>\n",
       "      <th>3999</th>\n",
       "      <td>00000000000000004e1c_0</td>\n",
       "      <td>0.074820</td>\n",
       "      <td>0.102540</td>\n",
       "      <td>0.112360</td>\n",
       "      <td>0.256520</td>\n",
       "      <td>0.391201</td>\n",
       "      <td>0.810225</td>\n",
       "      <td>1</td>\n",
       "      <td>{\"type\":\"MultiPoint\",\"coordinates\":[]}</td>\n",
       "    </tr>\n",
       "  </tbody>\n",
       "</table>\n",
       "<p>4000 rows × 9 columns</p>\n",
       "</div>"
      ],
      "text/plain": [
       "                system:index        B2        B3        B4        B8  \\\n",
       "0     00000000000000003e80_0  0.012521  0.013921  0.011386  0.011879   \n",
       "1     00000000000000003e85_0  0.029833  0.044433  0.038533  0.220833   \n",
       "2     00000000000000003e87_0  0.033800  0.058050  0.046600  0.258000   \n",
       "3     00000000000000003e89_0  0.037100  0.056600  0.054800  0.223867   \n",
       "4     00000000000000003e8b_0  0.027350  0.044075  0.044575  0.215150   \n",
       "...                      ...       ...       ...       ...       ...   \n",
       "3995  00000000000000004e12_0  0.091667  0.123289  0.150733  0.292356   \n",
       "3996  00000000000000004e16_0  0.061860  0.082040  0.094260  0.191520   \n",
       "3997  00000000000000004e18_0  0.058160  0.086840  0.108380  0.253440   \n",
       "3998  00000000000000004e1b_0  0.045850  0.063750  0.066250  0.226650   \n",
       "3999  00000000000000004e1c_0  0.074820  0.102540  0.112360  0.256520   \n",
       "\n",
       "          NDVI  classification  crop                                    .geo  \n",
       "0     0.013986        0.022450     0  {\"type\":\"MultiPoint\",\"coordinates\":[]}  \n",
       "1     0.702531        0.195416     0  {\"type\":\"MultiPoint\",\"coordinates\":[]}  \n",
       "2     0.694182        0.084837     0  {\"type\":\"MultiPoint\",\"coordinates\":[]}  \n",
       "3     0.607035        0.256949     0  {\"type\":\"MultiPoint\",\"coordinates\":[]}  \n",
       "4     0.656845        0.073527     0  {\"type\":\"MultiPoint\",\"coordinates\":[]}  \n",
       "...        ...             ...   ...                                     ...  \n",
       "3995  0.319329        0.790826     1  {\"type\":\"MultiPoint\",\"coordinates\":[]}  \n",
       "3996  0.340977        0.454751     1  {\"type\":\"MultiPoint\",\"coordinates\":[]}  \n",
       "3997  0.403410        0.610969     1  {\"type\":\"MultiPoint\",\"coordinates\":[]}  \n",
       "3998  0.547808        0.243752     1  {\"type\":\"MultiPoint\",\"coordinates\":[]}  \n",
       "3999  0.391201        0.810225     1  {\"type\":\"MultiPoint\",\"coordinates\":[]}  \n",
       "\n",
       "[4000 rows x 9 columns]"
      ]
     },
     "execution_count": 8,
     "metadata": {},
     "output_type": "execute_result"
    }
   ],
   "source": [
    "file = 'predicted_class_probabilities.csv'\n",
    "path = os.path.join(directory, file)\n",
    "predicted_class_probabilities = pd.read_csv(path)\n",
    "predicted_class_probabilities"
   ]
  },
  {
   "cell_type": "code",
   "execution_count": 9,
   "id": "348c35d3-73d0-40a5-b325-a9060e603aee",
   "metadata": {},
   "outputs": [
    {
     "data": {
      "text/plain": [
       "0    2043\n",
       "1    1957\n",
       "Name: crop, dtype: int64"
      ]
     },
     "execution_count": 9,
     "metadata": {},
     "output_type": "execute_result"
    }
   ],
   "source": [
    "predicted_class_probabilities['crop'].value_counts()"
   ]
  },
  {
   "cell_type": "markdown",
   "id": "d5f25452-02bd-4f43-a59f-be5a738a99ee",
   "metadata": {},
   "source": [
    "### Calculate test set accuracy at different thresholds"
   ]
  },
  {
   "cell_type": "code",
   "execution_count": 10,
   "id": "8afade13-5843-48a6-bc7b-a132da008031",
   "metadata": {},
   "outputs": [
    {
     "name": "stdout",
     "output_type": "stream",
     "text": [
      "0.1 0.56\n",
      "0.2 0.64\n",
      "0.3 0.7\n",
      "0.4 0.73\n",
      "0.5 0.74\n",
      "0.6 0.74\n",
      "0.7 0.71\n",
      "0.8 0.66\n",
      "0.9 0.59\n",
      "1.0 0.51\n"
     ]
    }
   ],
   "source": [
    "accuracies_rf = calculate_accuracies(predicted_class_probabilities['crop'], predicted_class_probabilities['classification'], thresholds)"
   ]
  },
  {
   "cell_type": "code",
   "execution_count": 11,
   "id": "a914be24-1205-477d-9c8f-c6da25fba3f0",
   "metadata": {},
   "outputs": [
    {
     "data": {
      "image/png": "[encoded data removed]",
      "text/plain": [
       "<Figure size 640x480 with 1 Axes>"
      ]
     },
     "metadata": {},
     "output_type": "display_data"
    }
   ],
   "source": [
    "plot_accuracies('random forest', accuracies_rf, thresholds, predicted_class_probabilities.shape[0])"
   ]
  },
  {
   "cell_type": "markdown",
   "id": "e085845e-44ba-4199-964a-ed0d1594a238",
   "metadata": {
    "tags": []
   },
   "source": [
    "## Evaluate OpenMapFlow model\n",
    "\n",
    "Data used for training: GeowikiLandcover2017 and KAZABengoCrop2020Random2000\n",
    "\n",
    "Get the test set labels and predicted test set class probablities from this [notebook](https://github.com/alexvmt/farm_plot_detection/blob/main/create_maps_for_small_regions.ipynb) through modifying `evaluate.py` to print the respective values. Save them in a text file, download them and copy them to the right directory."
   ]
  },
  {
   "cell_type": "code",
   "execution_count": 12,
   "id": "ced192f0-50f8-4d18-b5e9-34f76d6389ca",
   "metadata": {},
   "outputs": [],
   "source": [
    "directory = '../processed_data/classification_threshold_evaluation/openmapflow'"
   ]
  },
  {
   "cell_type": "markdown",
   "id": "725caf77-4b5f-4458-97a4-01312ca6031e",
   "metadata": {
    "tags": []
   },
   "source": [
    "### Load test set labels"
   ]
  },
  {
   "cell_type": "code",
   "execution_count": 13,
   "id": "2aec1d09-1c30-43fa-9399-1f037405ac39",
   "metadata": {},
   "outputs": [
    {
     "data": {
      "text/html": [
       "<div>\n",
       "<style scoped>\n",
       "    .dataframe tbody tr th:only-of-type {\n",
       "        vertical-align: middle;\n",
       "    }\n",
       "\n",
       "    .dataframe tbody tr th {\n",
       "        vertical-align: top;\n",
       "    }\n",
       "\n",
       "    .dataframe thead th {\n",
       "        text-align: right;\n",
       "    }\n",
       "</style>\n",
       "<table border=\"1\" class=\"dataframe\">\n",
       "  <thead>\n",
       "    <tr style=\"text-align: right;\">\n",
       "      <th></th>\n",
       "      <th>y_true</th>\n",
       "    </tr>\n",
       "  </thead>\n",
       "  <tbody>\n",
       "    <tr>\n",
       "      <th>0</th>\n",
       "      <td>0.0</td>\n",
       "    </tr>\n",
       "    <tr>\n",
       "      <th>1</th>\n",
       "      <td>0.0</td>\n",
       "    </tr>\n",
       "    <tr>\n",
       "      <th>2</th>\n",
       "      <td>1.0</td>\n",
       "    </tr>\n",
       "    <tr>\n",
       "      <th>3</th>\n",
       "      <td>1.0</td>\n",
       "    </tr>\n",
       "    <tr>\n",
       "      <th>4</th>\n",
       "      <td>1.0</td>\n",
       "    </tr>\n",
       "    <tr>\n",
       "      <th>...</th>\n",
       "      <td>...</td>\n",
       "    </tr>\n",
       "    <tr>\n",
       "      <th>423</th>\n",
       "      <td>1.0</td>\n",
       "    </tr>\n",
       "    <tr>\n",
       "      <th>424</th>\n",
       "      <td>0.0</td>\n",
       "    </tr>\n",
       "    <tr>\n",
       "      <th>425</th>\n",
       "      <td>0.0</td>\n",
       "    </tr>\n",
       "    <tr>\n",
       "      <th>426</th>\n",
       "      <td>1.0</td>\n",
       "    </tr>\n",
       "    <tr>\n",
       "      <th>427</th>\n",
       "      <td>0.0</td>\n",
       "    </tr>\n",
       "  </tbody>\n",
       "</table>\n",
       "<p>428 rows × 1 columns</p>\n",
       "</div>"
      ],
      "text/plain": [
       "     y_true\n",
       "0       0.0\n",
       "1       0.0\n",
       "2       1.0\n",
       "3       1.0\n",
       "4       1.0\n",
       "..      ...\n",
       "423     1.0\n",
       "424     0.0\n",
       "425     0.0\n",
       "426     1.0\n",
       "427     0.0\n",
       "\n",
       "[428 rows x 1 columns]"
      ]
     },
     "execution_count": 13,
     "metadata": {},
     "output_type": "execute_result"
    }
   ],
   "source": [
    "file = 'y_true.txt'\n",
    "path = os.path.join(directory, file)\n",
    "y_true = pd.read_csv(path, sep=' ', names=['y_true'])\n",
    "y_true"
   ]
  },
  {
   "cell_type": "markdown",
   "id": "d062c7e4-1d72-4e2f-ad8f-caa8e0979825",
   "metadata": {
    "tags": []
   },
   "source": [
    "### Load predicted test set class probabilities"
   ]
  },
  {
   "cell_type": "code",
   "execution_count": 14,
   "id": "15773174-b01c-48d2-8943-2b78cb399a13",
   "metadata": {},
   "outputs": [
    {
     "data": {
      "text/html": [
       "<div>\n",
       "<style scoped>\n",
       "    .dataframe tbody tr th:only-of-type {\n",
       "        vertical-align: middle;\n",
       "    }\n",
       "\n",
       "    .dataframe tbody tr th {\n",
       "        vertical-align: top;\n",
       "    }\n",
       "\n",
       "    .dataframe thead th {\n",
       "        text-align: right;\n",
       "    }\n",
       "</style>\n",
       "<table border=\"1\" class=\"dataframe\">\n",
       "  <thead>\n",
       "    <tr style=\"text-align: right;\">\n",
       "      <th></th>\n",
       "      <th>y_score</th>\n",
       "    </tr>\n",
       "  </thead>\n",
       "  <tbody>\n",
       "    <tr>\n",
       "      <th>0</th>\n",
       "      <td>0.060221</td>\n",
       "    </tr>\n",
       "    <tr>\n",
       "      <th>1</th>\n",
       "      <td>0.064586</td>\n",
       "    </tr>\n",
       "    <tr>\n",
       "      <th>2</th>\n",
       "      <td>0.640205</td>\n",
       "    </tr>\n",
       "    <tr>\n",
       "      <th>3</th>\n",
       "      <td>0.497576</td>\n",
       "    </tr>\n",
       "    <tr>\n",
       "      <th>4</th>\n",
       "      <td>0.941447</td>\n",
       "    </tr>\n",
       "    <tr>\n",
       "      <th>...</th>\n",
       "      <td>...</td>\n",
       "    </tr>\n",
       "    <tr>\n",
       "      <th>423</th>\n",
       "      <td>0.165784</td>\n",
       "    </tr>\n",
       "    <tr>\n",
       "      <th>424</th>\n",
       "      <td>0.005387</td>\n",
       "    </tr>\n",
       "    <tr>\n",
       "      <th>425</th>\n",
       "      <td>0.819797</td>\n",
       "    </tr>\n",
       "    <tr>\n",
       "      <th>426</th>\n",
       "      <td>0.915841</td>\n",
       "    </tr>\n",
       "    <tr>\n",
       "      <th>427</th>\n",
       "      <td>0.141395</td>\n",
       "    </tr>\n",
       "  </tbody>\n",
       "</table>\n",
       "<p>428 rows × 1 columns</p>\n",
       "</div>"
      ],
      "text/plain": [
       "      y_score\n",
       "0    0.060221\n",
       "1    0.064586\n",
       "2    0.640205\n",
       "3    0.497576\n",
       "4    0.941447\n",
       "..        ...\n",
       "423  0.165784\n",
       "424  0.005387\n",
       "425  0.819797\n",
       "426  0.915841\n",
       "427  0.141395\n",
       "\n",
       "[428 rows x 1 columns]"
      ]
     },
     "execution_count": 14,
     "metadata": {},
     "output_type": "execute_result"
    }
   ],
   "source": [
    "file = 'y_score.txt'\n",
    "path = os.path.join(directory, file)\n",
    "y_score = pd.read_csv(path, sep=' ', names=['y_score'])\n",
    "y_score"
   ]
  },
  {
   "cell_type": "markdown",
   "id": "82140079-efef-4c84-a0ff-d2e658a97c1d",
   "metadata": {},
   "source": [
    "### Calculate test set accuracy at different thresholds"
   ]
  },
  {
   "cell_type": "code",
   "execution_count": 15,
   "id": "00a6cf11-cf94-45ca-a349-00b9395c1768",
   "metadata": {},
   "outputs": [
    {
     "name": "stdout",
     "output_type": "stream",
     "text": [
      "0.1 0.58\n",
      "0.2 0.68\n",
      "0.3 0.74\n",
      "0.4 0.78\n",
      "0.5 0.75\n",
      "0.6 0.74\n",
      "0.7 0.7\n",
      "0.8 0.64\n",
      "0.9 0.57\n",
      "1.0 0.51\n"
     ]
    }
   ],
   "source": [
    "accuracies_omf = calculate_accuracies(y_true['y_true'], y_score['y_score'], thresholds)"
   ]
  },
  {
   "cell_type": "code",
   "execution_count": 16,
   "id": "e3b7fb58-a702-4945-a917-0bee0d5ee520",
   "metadata": {},
   "outputs": [
    {
     "data": {
      "image/png": "[encoded data removed]",
      "text/plain": [
       "<Figure size 640x480 with 1 Axes>"
      ]
     },
     "metadata": {},
     "output_type": "display_data"
    }
   ],
   "source": [
    "plot_accuracies('OpenMapFlow model', accuracies_omf, thresholds, y_true.shape[0])"
   ]
  }
 ],
 "metadata": {
  "kernelspec": {
   "display_name": "Python 3 (ipykernel)",
   "language": "python",
   "name": "python3"
  },
  "language_info": {
   "codemirror_mode": {
    "name": "ipython",
    "version": 3
   },
   "file_extension": ".py",
   "mimetype": "text/x-python",
   "name": "python",
   "nbconvert_exporter": "python",
   "pygments_lexer": "ipython3",
   "version": "3.8.13"
  }
 },
 "nbformat": 4,
 "nbformat_minor": 5
}
