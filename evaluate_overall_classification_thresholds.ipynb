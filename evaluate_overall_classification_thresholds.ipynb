{
 "cells": [
  {
   "cell_type": "markdown",
   "id": "3161db0f-e09f-41fb-92d7-2e0d9ef1039b",
   "metadata": {},
   "source": [
    "# Evaluate overall classification thresholds"
   ]
  },
  {
   "cell_type": "code",
   "execution_count": 1,
   "id": "423b42bd-f4a0-4f07-8ba4-123929e9e443",
   "metadata": {},
   "outputs": [],
   "source": [
    "import os\n",
    "import numpy as np\n",
    "import pandas as pd\n",
    "from sklearn.metrics import accuracy_score, precision_score, recall_score, f1_score, roc_auc_score\n",
    "import matplotlib.pyplot as plt\n",
    "import seaborn as sns"
   ]
  },
  {
   "cell_type": "code",
   "execution_count": 2,
   "id": "37773f4a-7f32-4cdf-a90b-f86f4d3d9c6f",
   "metadata": {},
   "outputs": [],
   "source": [
    "%matplotlib inline"
   ]
  },
  {
   "cell_type": "code",
   "execution_count": 3,
   "id": "8764600f-c2f0-4369-9047-fb0f795ed969",
   "metadata": {},
   "outputs": [],
   "source": [
    "sns.set_theme()"
   ]
  },
  {
   "cell_type": "code",
   "execution_count": 4,
   "id": "0746bcb1-b087-4020-8a18-6c49c3224056",
   "metadata": {},
   "outputs": [],
   "source": [
    "thresholds = np.arange(0.1,1.1,0.1)"
   ]
  },
  {
   "cell_type": "code",
   "execution_count": 5,
   "id": "b41a1384-64a5-4c42-a289-d84bb1a40566",
   "metadata": {},
   "outputs": [],
   "source": [
    "metric = 'roc_auc'"
   ]
  },
  {
   "cell_type": "code",
   "execution_count": 6,
   "id": "00cac411-6922-44dd-b229-88263d283441",
   "metadata": {},
   "outputs": [],
   "source": [
    "def calculate_metrics(metric_name, labels, class_probabilities, thresholds):\n",
    "    \n",
    "    true_labels = list(labels)\n",
    "    predicted_label_probabilities = list(class_probabilities)\n",
    "    metrics = []\n",
    "    \n",
    "    for threshold in thresholds:\n",
    "        \n",
    "        predicted_labels = [1 if i >= threshold else 0 for i in predicted_label_probabilities]\n",
    "        \n",
    "        # accuracy\n",
    "        if metric_name == 'accuracy':\n",
    "            metric = round(accuracy_score(true_labels, predicted_labels), 2)\n",
    "            metrics.append(metric)\n",
    "            print(round(threshold, 1), metric)\n",
    "        \n",
    "        # f1\n",
    "        if metric_name == 'f1':\n",
    "            metric = round(f1_score(true_labels, predicted_labels), 2)\n",
    "            metrics.append(metric)\n",
    "            print(round(threshold, 1), metric)\n",
    "        \n",
    "        # precision\n",
    "        if metric_name == 'precision':\n",
    "            metric = round(precision_score(true_labels, predicted_labels), 2)\n",
    "            metrics.append(metric)\n",
    "            print(round(threshold, 1), metric)\n",
    "        \n",
    "        # recall\n",
    "        if metric_name == 'recall':\n",
    "            metric = round(recall_score(true_labels, predicted_labels), 2)\n",
    "            metrics.append(metric)\n",
    "            print(round(threshold, 1), metric)\n",
    "        \n",
    "        # roc_auc\n",
    "        if metric_name == 'roc_auc':\n",
    "            metric = round(roc_auc_score(true_labels, predicted_labels), 2)\n",
    "            metrics.append(metric)\n",
    "            print(round(threshold, 1), metric)\n",
    "        \n",
    "    return metrics"
   ]
  },
  {
   "cell_type": "code",
   "execution_count": 7,
   "id": "217207ff-04ba-4ab4-924a-8f13e2752f05",
   "metadata": {},
   "outputs": [],
   "source": [
    "def plot_metrics(model_name, metric_name, metrics, thresholds, subset, number_of_observations):\n",
    "    \n",
    "    if metric_name == 'roc_auc':\n",
    "        metric_name = metric_name.replace('_', ' ').upper()\n",
    "    else:\n",
    "        metric_name = metric_name.capitalize()\n",
    "    \n",
    "    plt.plot(thresholds, metrics, marker='o')\n",
    "    plt.xticks(thresholds)\n",
    "    plt.xlabel('Threshold')\n",
    "    plt.ylim(0, 1)\n",
    "    plt.yticks(thresholds)\n",
    "    plt.ylabel(metric_name)\n",
    "    plt.title(f'{metric_name} at different classification thresholds for {model_name}\\n{subset.capitalize()} set size: {number_of_observations}')\n",
    "    plt.show()"
   ]
  },
  {
   "cell_type": "markdown",
   "id": "f70aa56c-0c60-426d-ab82-97af2540aa03",
   "metadata": {
    "tags": []
   },
   "source": [
    "## Evaluate random forest\n",
    "\n",
    "Data used for training: KAZABengoCrop2020Random2000\n",
    "\n",
    "Run this [script](https://github.com/alexvmt/farm_plot_detection/blob/main/earth_engine_scripts/random_forest_kaza_bengo_crop_2020_openmapflow.js) in Google Earth Engine to export the desired class probablities. Then, download them from Google Drive and copy them to the correct directory."
   ]
  },
  {
   "cell_type": "code",
   "execution_count": 8,
   "id": "cc6efc99-168a-4c1e-92c0-603a9946b92b",
   "metadata": {},
   "outputs": [],
   "source": [
    "directory = '../processed_data/classification_threshold_evaluation/random_forest'"
   ]
  },
  {
   "cell_type": "markdown",
   "id": "1c62bfa8-3323-4277-ba36-d91db094fdf7",
   "metadata": {},
   "source": [
    "### Load validation set labels and predicted validation set class probabilities"
   ]
  },
  {
   "cell_type": "code",
   "execution_count": 9,
   "id": "bcc1fb8d-5b1c-4192-9694-0d32d8b39abe",
   "metadata": {},
   "outputs": [
    {
     "name": "stdout",
     "output_type": "stream",
     "text": [
      "(378, 9)\n"
     ]
    },
    {
     "data": {
      "text/html": [
       "<div>\n",
       "<style scoped>\n",
       "    .dataframe tbody tr th:only-of-type {\n",
       "        vertical-align: middle;\n",
       "    }\n",
       "\n",
       "    .dataframe tbody tr th {\n",
       "        vertical-align: top;\n",
       "    }\n",
       "\n",
       "    .dataframe thead th {\n",
       "        text-align: right;\n",
       "    }\n",
       "</style>\n",
       "<table border=\"1\" class=\"dataframe\">\n",
       "  <thead>\n",
       "    <tr style=\"text-align: right;\">\n",
       "      <th></th>\n",
       "      <th>system:index</th>\n",
       "      <th>B2</th>\n",
       "      <th>B3</th>\n",
       "      <th>B4</th>\n",
       "      <th>B8</th>\n",
       "      <th>NDVI</th>\n",
       "      <th>classification</th>\n",
       "      <th>crop</th>\n",
       "      <th>.geo</th>\n",
       "    </tr>\n",
       "  </thead>\n",
       "  <tbody>\n",
       "    <tr>\n",
       "      <th>0</th>\n",
       "      <td>00000000000000000000_0</td>\n",
       "      <td>0.118800</td>\n",
       "      <td>0.169240</td>\n",
       "      <td>0.234440</td>\n",
       "      <td>0.352960</td>\n",
       "      <td>0.201446</td>\n",
       "      <td>0.865704</td>\n",
       "      <td>0</td>\n",
       "      <td>{\"type\":\"MultiPoint\",\"coordinates\":[]}</td>\n",
       "    </tr>\n",
       "    <tr>\n",
       "      <th>1</th>\n",
       "      <td>00000000000000000013_0</td>\n",
       "      <td>0.048940</td>\n",
       "      <td>0.068200</td>\n",
       "      <td>0.069740</td>\n",
       "      <td>0.206440</td>\n",
       "      <td>0.494545</td>\n",
       "      <td>0.198393</td>\n",
       "      <td>0</td>\n",
       "      <td>{\"type\":\"MultiPoint\",\"coordinates\":[]}</td>\n",
       "    </tr>\n",
       "    <tr>\n",
       "      <th>2</th>\n",
       "      <td>00000000000000000016_0</td>\n",
       "      <td>0.084131</td>\n",
       "      <td>0.109754</td>\n",
       "      <td>0.106369</td>\n",
       "      <td>0.276585</td>\n",
       "      <td>0.515181</td>\n",
       "      <td>0.611581</td>\n",
       "      <td>0</td>\n",
       "      <td>{\"type\":\"MultiPoint\",\"coordinates\":[]}</td>\n",
       "    </tr>\n",
       "    <tr>\n",
       "      <th>3</th>\n",
       "      <td>00000000000000000017_0</td>\n",
       "      <td>0.042025</td>\n",
       "      <td>0.060925</td>\n",
       "      <td>0.051700</td>\n",
       "      <td>0.237825</td>\n",
       "      <td>0.642965</td>\n",
       "      <td>0.045210</td>\n",
       "      <td>0</td>\n",
       "      <td>{\"type\":\"MultiPoint\",\"coordinates\":[]}</td>\n",
       "    </tr>\n",
       "    <tr>\n",
       "      <th>4</th>\n",
       "      <td>00000000000000000024_0</td>\n",
       "      <td>0.038875</td>\n",
       "      <td>0.056613</td>\n",
       "      <td>0.043650</td>\n",
       "      <td>0.212688</td>\n",
       "      <td>0.659931</td>\n",
       "      <td>0.049084</td>\n",
       "      <td>0</td>\n",
       "      <td>{\"type\":\"MultiPoint\",\"coordinates\":[]}</td>\n",
       "    </tr>\n",
       "  </tbody>\n",
       "</table>\n",
       "</div>"
      ],
      "text/plain": [
       "             system:index        B2        B3        B4        B8      NDVI  \\\n",
       "0  00000000000000000000_0  0.118800  0.169240  0.234440  0.352960  0.201446   \n",
       "1  00000000000000000013_0  0.048940  0.068200  0.069740  0.206440  0.494545   \n",
       "2  00000000000000000016_0  0.084131  0.109754  0.106369  0.276585  0.515181   \n",
       "3  00000000000000000017_0  0.042025  0.060925  0.051700  0.237825  0.642965   \n",
       "4  00000000000000000024_0  0.038875  0.056613  0.043650  0.212688  0.659931   \n",
       "\n",
       "   classification  crop                                    .geo  \n",
       "0        0.865704     0  {\"type\":\"MultiPoint\",\"coordinates\":[]}  \n",
       "1        0.198393     0  {\"type\":\"MultiPoint\",\"coordinates\":[]}  \n",
       "2        0.611581     0  {\"type\":\"MultiPoint\",\"coordinates\":[]}  \n",
       "3        0.045210     0  {\"type\":\"MultiPoint\",\"coordinates\":[]}  \n",
       "4        0.049084     0  {\"type\":\"MultiPoint\",\"coordinates\":[]}  "
      ]
     },
     "execution_count": 9,
     "metadata": {},
     "output_type": "execute_result"
    }
   ],
   "source": [
    "file = 'predicted_class_probabilities_val.csv'\n",
    "path = os.path.join(directory, file)\n",
    "predicted_class_probabilities_val = pd.read_csv(path)\n",
    "print(predicted_class_probabilities_val.shape)\n",
    "predicted_class_probabilities_val.head()"
   ]
  },
  {
   "cell_type": "code",
   "execution_count": 10,
   "id": "6bc5a3fd-1efe-48b5-95e0-e7d0e6b14fd4",
   "metadata": {},
   "outputs": [
    {
     "data": {
      "text/plain": [
       "1    205\n",
       "0    173\n",
       "Name: crop, dtype: int64"
      ]
     },
     "execution_count": 10,
     "metadata": {},
     "output_type": "execute_result"
    }
   ],
   "source": [
    "predicted_class_probabilities_val['crop'].value_counts()"
   ]
  },
  {
   "cell_type": "markdown",
   "id": "a827f086-8f01-40ed-a4ae-52b730b42b10",
   "metadata": {},
   "source": [
    "### Calculate test set accuracy at different thresholds"
   ]
  },
  {
   "cell_type": "code",
   "execution_count": 11,
   "id": "f9bfb053-8ab0-4ff8-a291-904c1cd1ccef",
   "metadata": {},
   "outputs": [
    {
     "name": "stdout",
     "output_type": "stream",
     "text": [
      "0.1 0.57\n",
      "0.2 0.67\n",
      "0.3 0.73\n",
      "0.4 0.75\n",
      "0.5 0.76\n",
      "0.6 0.75\n",
      "0.7 0.68\n",
      "0.8 0.62\n",
      "0.9 0.57\n",
      "1.0 0.5\n"
     ]
    }
   ],
   "source": [
    "accuracies_rf = calculate_metrics(metric, predicted_class_probabilities_val['crop'], predicted_class_probabilities_val['classification'], thresholds)"
   ]
  },
  {
   "cell_type": "code",
   "execution_count": 12,
   "id": "bf0c8c40-f341-4987-87a1-73529499afba",
   "metadata": {},
   "outputs": [
    {
     "data": {
      "image/png": "[encoded data removed]",
      "text/plain": [
       "<Figure size 640x480 with 1 Axes>"
      ]
     },
     "metadata": {},
     "output_type": "display_data"
    }
   ],
   "source": [
    "plot_metrics('random forest', metric, accuracies_rf, thresholds, 'val', predicted_class_probabilities_val.shape[0])"
   ]
  },
  {
   "cell_type": "markdown",
   "id": "f9f84181-4fc0-435c-9472-e0c1e935d3cb",
   "metadata": {},
   "source": [
    "### Load test set labels and predicted test set class probabilities"
   ]
  },
  {
   "cell_type": "code",
   "execution_count": 13,
   "id": "86c7ff59-0c86-413d-b7f0-3bde6c33d0fb",
   "metadata": {},
   "outputs": [
    {
     "name": "stdout",
     "output_type": "stream",
     "text": [
      "(428, 9)\n"
     ]
    },
    {
     "data": {
      "text/html": [
       "<div>\n",
       "<style scoped>\n",
       "    .dataframe tbody tr th:only-of-type {\n",
       "        vertical-align: middle;\n",
       "    }\n",
       "\n",
       "    .dataframe tbody tr th {\n",
       "        vertical-align: top;\n",
       "    }\n",
       "\n",
       "    .dataframe thead th {\n",
       "        text-align: right;\n",
       "    }\n",
       "</style>\n",
       "<table border=\"1\" class=\"dataframe\">\n",
       "  <thead>\n",
       "    <tr style=\"text-align: right;\">\n",
       "      <th></th>\n",
       "      <th>system:index</th>\n",
       "      <th>B2</th>\n",
       "      <th>B3</th>\n",
       "      <th>B4</th>\n",
       "      <th>B8</th>\n",
       "      <th>NDVI</th>\n",
       "      <th>classification</th>\n",
       "      <th>crop</th>\n",
       "      <th>.geo</th>\n",
       "    </tr>\n",
       "  </thead>\n",
       "  <tbody>\n",
       "    <tr>\n",
       "      <th>0</th>\n",
       "      <td>00000000000000000004_0</td>\n",
       "      <td>0.024233</td>\n",
       "      <td>0.037700</td>\n",
       "      <td>0.033133</td>\n",
       "      <td>0.174767</td>\n",
       "      <td>0.681182</td>\n",
       "      <td>0.164649</td>\n",
       "      <td>0</td>\n",
       "      <td>{\"type\":\"MultiPoint\",\"coordinates\":[]}</td>\n",
       "    </tr>\n",
       "    <tr>\n",
       "      <th>1</th>\n",
       "      <td>00000000000000000005_0</td>\n",
       "      <td>0.037214</td>\n",
       "      <td>0.057114</td>\n",
       "      <td>0.048871</td>\n",
       "      <td>0.216029</td>\n",
       "      <td>0.634218</td>\n",
       "      <td>0.216665</td>\n",
       "      <td>0</td>\n",
       "      <td>{\"type\":\"MultiPoint\",\"coordinates\":[]}</td>\n",
       "    </tr>\n",
       "    <tr>\n",
       "      <th>2</th>\n",
       "      <td>00000000000000000015_0</td>\n",
       "      <td>0.057267</td>\n",
       "      <td>0.077600</td>\n",
       "      <td>0.079167</td>\n",
       "      <td>0.249200</td>\n",
       "      <td>0.517727</td>\n",
       "      <td>0.153445</td>\n",
       "      <td>0</td>\n",
       "      <td>{\"type\":\"MultiPoint\",\"coordinates\":[]}</td>\n",
       "    </tr>\n",
       "    <tr>\n",
       "      <th>3</th>\n",
       "      <td>0000000000000000001a_0</td>\n",
       "      <td>0.039997</td>\n",
       "      <td>0.060628</td>\n",
       "      <td>0.067481</td>\n",
       "      <td>0.227687</td>\n",
       "      <td>0.543460</td>\n",
       "      <td>0.261508</td>\n",
       "      <td>0</td>\n",
       "      <td>{\"type\":\"MultiPoint\",\"coordinates\":[]}</td>\n",
       "    </tr>\n",
       "    <tr>\n",
       "      <th>4</th>\n",
       "      <td>00000000000000000025_0</td>\n",
       "      <td>0.036117</td>\n",
       "      <td>0.053967</td>\n",
       "      <td>0.059367</td>\n",
       "      <td>0.230917</td>\n",
       "      <td>0.590844</td>\n",
       "      <td>0.158440</td>\n",
       "      <td>0</td>\n",
       "      <td>{\"type\":\"MultiPoint\",\"coordinates\":[]}</td>\n",
       "    </tr>\n",
       "  </tbody>\n",
       "</table>\n",
       "</div>"
      ],
      "text/plain": [
       "             system:index        B2        B3        B4        B8      NDVI  \\\n",
       "0  00000000000000000004_0  0.024233  0.037700  0.033133  0.174767  0.681182   \n",
       "1  00000000000000000005_0  0.037214  0.057114  0.048871  0.216029  0.634218   \n",
       "2  00000000000000000015_0  0.057267  0.077600  0.079167  0.249200  0.517727   \n",
       "3  0000000000000000001a_0  0.039997  0.060628  0.067481  0.227687  0.543460   \n",
       "4  00000000000000000025_0  0.036117  0.053967  0.059367  0.230917  0.590844   \n",
       "\n",
       "   classification  crop                                    .geo  \n",
       "0        0.164649     0  {\"type\":\"MultiPoint\",\"coordinates\":[]}  \n",
       "1        0.216665     0  {\"type\":\"MultiPoint\",\"coordinates\":[]}  \n",
       "2        0.153445     0  {\"type\":\"MultiPoint\",\"coordinates\":[]}  \n",
       "3        0.261508     0  {\"type\":\"MultiPoint\",\"coordinates\":[]}  \n",
       "4        0.158440     0  {\"type\":\"MultiPoint\",\"coordinates\":[]}  "
      ]
     },
     "execution_count": 13,
     "metadata": {},
     "output_type": "execute_result"
    }
   ],
   "source": [
    "file = 'predicted_class_probabilities_test.csv'\n",
    "path = os.path.join(directory, file)\n",
    "predicted_class_probabilities_test = pd.read_csv(path)\n",
    "print(predicted_class_probabilities_test.shape)\n",
    "predicted_class_probabilities_test.head()"
   ]
  },
  {
   "cell_type": "code",
   "execution_count": 14,
   "id": "348c35d3-73d0-40a5-b325-a9060e603aee",
   "metadata": {},
   "outputs": [
    {
     "data": {
      "text/plain": [
       "0    220\n",
       "1    208\n",
       "Name: crop, dtype: int64"
      ]
     },
     "execution_count": 14,
     "metadata": {},
     "output_type": "execute_result"
    }
   ],
   "source": [
    "predicted_class_probabilities_test['crop'].value_counts()"
   ]
  },
  {
   "cell_type": "markdown",
   "id": "d5f25452-02bd-4f43-a59f-be5a738a99ee",
   "metadata": {},
   "source": [
    "### Calculate test set accuracy at different thresholds"
   ]
  },
  {
   "cell_type": "code",
   "execution_count": 15,
   "id": "8afade13-5843-48a6-bc7b-a132da008031",
   "metadata": {},
   "outputs": [
    {
     "name": "stdout",
     "output_type": "stream",
     "text": [
      "0.1 0.59\n",
      "0.2 0.65\n",
      "0.3 0.7\n",
      "0.4 0.73\n",
      "0.5 0.75\n",
      "0.6 0.74\n",
      "0.7 0.7\n",
      "0.8 0.65\n",
      "0.9 0.58\n",
      "1.0 0.5\n"
     ]
    }
   ],
   "source": [
    "accuracies_rf = calculate_metrics(metric, predicted_class_probabilities_test['crop'], predicted_class_probabilities_test['classification'], thresholds)"
   ]
  },
  {
   "cell_type": "code",
   "execution_count": 16,
   "id": "a914be24-1205-477d-9c8f-c6da25fba3f0",
   "metadata": {},
   "outputs": [
    {
     "data": {
      "image/png": "[encoded data removed]",
      "text/plain": [
       "<Figure size 640x480 with 1 Axes>"
      ]
     },
     "metadata": {},
     "output_type": "display_data"
    }
   ],
   "source": [
    "plot_metrics('random forest', metric, accuracies_rf, thresholds, 'test', predicted_class_probabilities_test.shape[0])"
   ]
  },
  {
   "cell_type": "markdown",
   "id": "e085845e-44ba-4199-964a-ed0d1594a238",
   "metadata": {
    "tags": []
   },
   "source": [
    "## Evaluate OpenMapFlow model\n",
    "\n",
    "Data used for training: GeowikiLandcover2017 and KAZABengoCrop2020Random2000\n",
    "\n",
    "Get the validation and test set labels and predicted validation and test set class probablities from this [notebook](https://github.com/alexvmt/farm_plot_detection/blob/main/create_maps_for_small_regions.ipynb) through modifying `evaluate.py`.\n",
    "\n",
    "Add the following code:\n",
    "\n",
    "```\n",
    "# export test set with predicted class probabilities\n",
    "test_df['predicted_class_probability'] = y_score\n",
    "test_df.to_csv('test_df.csv', index=False)\n",
    "```\n",
    "\n",
    "Download the csv file and copy it to the right directory to be loaded in the present notebook.\n",
    "\n",
    "Change \"testing\" to \"validation\" in line 45 to repeat the process for the validation set."
   ]
  },
  {
   "cell_type": "code",
   "execution_count": 17,
   "id": "ced192f0-50f8-4d18-b5e9-34f76d6389ca",
   "metadata": {},
   "outputs": [],
   "source": [
    "directory = '../processed_data/classification_threshold_evaluation/openmapflow'"
   ]
  },
  {
   "cell_type": "markdown",
   "id": "70d7cc3c-3d3b-41ad-be4f-4b5abce3470e",
   "metadata": {
    "tags": []
   },
   "source": [
    "### Load test set labels and predicted class probabilities"
   ]
  },
  {
   "cell_type": "code",
   "execution_count": 18,
   "id": "560c5f1e-24d7-4c74-97db-8bfc6fd89f04",
   "metadata": {},
   "outputs": [
    {
     "name": "stdout",
     "output_type": "stream",
     "text": [
      "(378, 19)\n"
     ]
    },
    {
     "data": {
      "text/html": [
       "<div>\n",
       "<style scoped>\n",
       "    .dataframe tbody tr th:only-of-type {\n",
       "        vertical-align: middle;\n",
       "    }\n",
       "\n",
       "    .dataframe tbody tr th {\n",
       "        vertical-align: top;\n",
       "    }\n",
       "\n",
       "    .dataframe thead th {\n",
       "        text-align: right;\n",
       "    }\n",
       "</style>\n",
       "<table border=\"1\" class=\"dataframe\">\n",
       "  <thead>\n",
       "    <tr style=\"text-align: right;\">\n",
       "      <th></th>\n",
       "      <th>lon</th>\n",
       "      <th>lat</th>\n",
       "      <th>start_date</th>\n",
       "      <th>end_date</th>\n",
       "      <th>source</th>\n",
       "      <th>class_probability</th>\n",
       "      <th>num_labelers</th>\n",
       "      <th>subset</th>\n",
       "      <th>analysis_duration</th>\n",
       "      <th>email</th>\n",
       "      <th>country</th>\n",
       "      <th>dataset</th>\n",
       "      <th>eo_data</th>\n",
       "      <th>eo_lon</th>\n",
       "      <th>eo_lat</th>\n",
       "      <th>eo_file</th>\n",
       "      <th>eo_status</th>\n",
       "      <th>crop</th>\n",
       "      <th>predicted_class_probability</th>\n",
       "    </tr>\n",
       "  </thead>\n",
       "  <tbody>\n",
       "    <tr>\n",
       "      <th>0</th>\n",
       "      <td>26.273130</td>\n",
       "      <td>-18.677686</td>\n",
       "      <td>2020-01-01</td>\n",
       "      <td>2021-12-31</td>\n",
       "      <td>NaN</td>\n",
       "      <td>0</td>\n",
       "      <td>NaN</td>\n",
       "      <td>validation</td>\n",
       "      <td>NaN</td>\n",
       "      <td>NaN</td>\n",
       "      <td>KAZA Bengo</td>\n",
       "      <td>NaN</td>\n",
       "      <td>[[-11.581751300741079, -18.474331940837484, 14...</td>\n",
       "      <td>26.273162</td>\n",
       "      <td>-18.677726</td>\n",
       "      <td>min_lat=-18.6784_min_lon=26.2724_max_lat=-18.6...</td>\n",
       "      <td>eo_data_complete</td>\n",
       "      <td>0.0</td>\n",
       "      <td>0.591271</td>\n",
       "    </tr>\n",
       "    <tr>\n",
       "      <th>1</th>\n",
       "      <td>24.682517</td>\n",
       "      <td>-17.741584</td>\n",
       "      <td>2020-01-01</td>\n",
       "      <td>2021-12-31</td>\n",
       "      <td>NaN</td>\n",
       "      <td>1</td>\n",
       "      <td>NaN</td>\n",
       "      <td>validation</td>\n",
       "      <td>NaN</td>\n",
       "      <td>NaN</td>\n",
       "      <td>KAZA Bengo</td>\n",
       "      <td>NaN</td>\n",
       "      <td>[[-12.337564239699724, -18.583445196882803, 11...</td>\n",
       "      <td>24.682515</td>\n",
       "      <td>-17.741592</td>\n",
       "      <td>min_lat=-17.7423_min_lon=24.6818_max_lat=-17.7...</td>\n",
       "      <td>eo_data_complete</td>\n",
       "      <td>1.0</td>\n",
       "      <td>0.907108</td>\n",
       "    </tr>\n",
       "    <tr>\n",
       "      <th>2</th>\n",
       "      <td>25.949454</td>\n",
       "      <td>-18.116932</td>\n",
       "      <td>2020-01-01</td>\n",
       "      <td>2021-12-31</td>\n",
       "      <td>NaN</td>\n",
       "      <td>1</td>\n",
       "      <td>NaN</td>\n",
       "      <td>validation</td>\n",
       "      <td>NaN</td>\n",
       "      <td>NaN</td>\n",
       "      <td>KAZA Bengo</td>\n",
       "      <td>NaN</td>\n",
       "      <td>[[-11.053719851296748, -17.505641691734816, 12...</td>\n",
       "      <td>25.949499</td>\n",
       "      <td>-18.116908</td>\n",
       "      <td>min_lat=-18.1177_min_lon=25.9487_max_lat=-18.1...</td>\n",
       "      <td>eo_data_complete</td>\n",
       "      <td>1.0</td>\n",
       "      <td>0.589035</td>\n",
       "    </tr>\n",
       "    <tr>\n",
       "      <th>3</th>\n",
       "      <td>26.278830</td>\n",
       "      <td>-18.626814</td>\n",
       "      <td>2020-01-01</td>\n",
       "      <td>2021-12-31</td>\n",
       "      <td>NaN</td>\n",
       "      <td>0</td>\n",
       "      <td>NaN</td>\n",
       "      <td>validation</td>\n",
       "      <td>NaN</td>\n",
       "      <td>NaN</td>\n",
       "      <td>KAZA Bengo</td>\n",
       "      <td>NaN</td>\n",
       "      <td>[[-12.373071007612186, -18.217272689920446, 12...</td>\n",
       "      <td>26.278821</td>\n",
       "      <td>-18.626792</td>\n",
       "      <td>min_lat=-18.6275_min_lon=26.2781_max_lat=-18.6...</td>\n",
       "      <td>eo_data_complete</td>\n",
       "      <td>0.0</td>\n",
       "      <td>0.124235</td>\n",
       "    </tr>\n",
       "    <tr>\n",
       "      <th>4</th>\n",
       "      <td>25.286036</td>\n",
       "      <td>-15.444899</td>\n",
       "      <td>2020-01-01</td>\n",
       "      <td>2021-12-31</td>\n",
       "      <td>NaN</td>\n",
       "      <td>0</td>\n",
       "      <td>NaN</td>\n",
       "      <td>validation</td>\n",
       "      <td>NaN</td>\n",
       "      <td>NaN</td>\n",
       "      <td>KAZA Bengo</td>\n",
       "      <td>NaN</td>\n",
       "      <td>[[-14.718798302707608, -19.456042719069494, 10...</td>\n",
       "      <td>25.286003</td>\n",
       "      <td>-15.444869</td>\n",
       "      <td>min_lat=-15.4456_min_lon=25.2853_max_lat=-15.4...</td>\n",
       "      <td>eo_data_complete</td>\n",
       "      <td>0.0</td>\n",
       "      <td>0.293120</td>\n",
       "    </tr>\n",
       "  </tbody>\n",
       "</table>\n",
       "</div>"
      ],
      "text/plain": [
       "         lon        lat  start_date    end_date  source  class_probability  \\\n",
       "0  26.273130 -18.677686  2020-01-01  2021-12-31     NaN                  0   \n",
       "1  24.682517 -17.741584  2020-01-01  2021-12-31     NaN                  1   \n",
       "2  25.949454 -18.116932  2020-01-01  2021-12-31     NaN                  1   \n",
       "3  26.278830 -18.626814  2020-01-01  2021-12-31     NaN                  0   \n",
       "4  25.286036 -15.444899  2020-01-01  2021-12-31     NaN                  0   \n",
       "\n",
       "   num_labelers      subset  analysis_duration  email     country  dataset  \\\n",
       "0           NaN  validation                NaN    NaN  KAZA Bengo      NaN   \n",
       "1           NaN  validation                NaN    NaN  KAZA Bengo      NaN   \n",
       "2           NaN  validation                NaN    NaN  KAZA Bengo      NaN   \n",
       "3           NaN  validation                NaN    NaN  KAZA Bengo      NaN   \n",
       "4           NaN  validation                NaN    NaN  KAZA Bengo      NaN   \n",
       "\n",
       "                                             eo_data     eo_lon     eo_lat  \\\n",
       "0  [[-11.581751300741079, -18.474331940837484, 14...  26.273162 -18.677726   \n",
       "1  [[-12.337564239699724, -18.583445196882803, 11...  24.682515 -17.741592   \n",
       "2  [[-11.053719851296748, -17.505641691734816, 12...  25.949499 -18.116908   \n",
       "3  [[-12.373071007612186, -18.217272689920446, 12...  26.278821 -18.626792   \n",
       "4  [[-14.718798302707608, -19.456042719069494, 10...  25.286003 -15.444869   \n",
       "\n",
       "                                             eo_file         eo_status  crop  \\\n",
       "0  min_lat=-18.6784_min_lon=26.2724_max_lat=-18.6...  eo_data_complete   0.0   \n",
       "1  min_lat=-17.7423_min_lon=24.6818_max_lat=-17.7...  eo_data_complete   1.0   \n",
       "2  min_lat=-18.1177_min_lon=25.9487_max_lat=-18.1...  eo_data_complete   1.0   \n",
       "3  min_lat=-18.6275_min_lon=26.2781_max_lat=-18.6...  eo_data_complete   0.0   \n",
       "4  min_lat=-15.4456_min_lon=25.2853_max_lat=-15.4...  eo_data_complete   0.0   \n",
       "\n",
       "   predicted_class_probability  \n",
       "0                     0.591271  \n",
       "1                     0.907108  \n",
       "2                     0.589035  \n",
       "3                     0.124235  \n",
       "4                     0.293120  "
      ]
     },
     "execution_count": 18,
     "metadata": {},
     "output_type": "execute_result"
    }
   ],
   "source": [
    "file = 'val_df.csv'\n",
    "path = os.path.join(directory, file)\n",
    "val_df = pd.read_csv(path)\n",
    "print(val_df.shape)\n",
    "val_df.head()"
   ]
  },
  {
   "cell_type": "markdown",
   "id": "932cdcd2-d031-4bc5-8e2e-d5e4a3017553",
   "metadata": {},
   "source": [
    "### Calculate test set accuracy at different thresholds"
   ]
  },
  {
   "cell_type": "code",
   "execution_count": 19,
   "id": "4d81c411-28fc-48fa-b594-392bd8ca6418",
   "metadata": {},
   "outputs": [
    {
     "name": "stdout",
     "output_type": "stream",
     "text": [
      "0.1 0.57\n",
      "0.2 0.64\n",
      "0.3 0.71\n",
      "0.4 0.74\n",
      "0.5 0.75\n",
      "0.6 0.7\n",
      "0.7 0.68\n",
      "0.8 0.62\n",
      "0.9 0.54\n",
      "1.0 0.5\n"
     ]
    }
   ],
   "source": [
    "accuracies_omf = calculate_metrics(metric, val_df['crop'], val_df['predicted_class_probability'], thresholds)"
   ]
  },
  {
   "cell_type": "code",
   "execution_count": 20,
   "id": "02088674-cb76-49b1-a289-214805136cda",
   "metadata": {},
   "outputs": [
    {
     "data": {
      "image/png": "[encoded data removed]",
      "text/plain": [
       "<Figure size 640x480 with 1 Axes>"
      ]
     },
     "metadata": {},
     "output_type": "display_data"
    }
   ],
   "source": [
    "plot_metrics('OpenMapFlow model', metric, accuracies_omf, thresholds, 'val', val_df.shape[0])"
   ]
  },
  {
   "cell_type": "markdown",
   "id": "cf920029-302f-4c98-8f67-c5c7fbff13ef",
   "metadata": {
    "tags": []
   },
   "source": [
    "### Load test set labels and predicted class probabilities"
   ]
  },
  {
   "cell_type": "code",
   "execution_count": 21,
   "id": "2aec1d09-1c30-43fa-9399-1f037405ac39",
   "metadata": {},
   "outputs": [
    {
     "name": "stdout",
     "output_type": "stream",
     "text": [
      "(428, 19)\n"
     ]
    },
    {
     "data": {
      "text/html": [
       "<div>\n",
       "<style scoped>\n",
       "    .dataframe tbody tr th:only-of-type {\n",
       "        vertical-align: middle;\n",
       "    }\n",
       "\n",
       "    .dataframe tbody tr th {\n",
       "        vertical-align: top;\n",
       "    }\n",
       "\n",
       "    .dataframe thead th {\n",
       "        text-align: right;\n",
       "    }\n",
       "</style>\n",
       "<table border=\"1\" class=\"dataframe\">\n",
       "  <thead>\n",
       "    <tr style=\"text-align: right;\">\n",
       "      <th></th>\n",
       "      <th>lon</th>\n",
       "      <th>lat</th>\n",
       "      <th>start_date</th>\n",
       "      <th>end_date</th>\n",
       "      <th>source</th>\n",
       "      <th>class_probability</th>\n",
       "      <th>num_labelers</th>\n",
       "      <th>subset</th>\n",
       "      <th>analysis_duration</th>\n",
       "      <th>email</th>\n",
       "      <th>country</th>\n",
       "      <th>dataset</th>\n",
       "      <th>eo_data</th>\n",
       "      <th>eo_lon</th>\n",
       "      <th>eo_lat</th>\n",
       "      <th>eo_file</th>\n",
       "      <th>eo_status</th>\n",
       "      <th>crop</th>\n",
       "      <th>predicted_class_probability</th>\n",
       "    </tr>\n",
       "  </thead>\n",
       "  <tbody>\n",
       "    <tr>\n",
       "      <th>0</th>\n",
       "      <td>25.052454</td>\n",
       "      <td>-15.191106</td>\n",
       "      <td>2020-01-01</td>\n",
       "      <td>2021-12-31</td>\n",
       "      <td>NaN</td>\n",
       "      <td>0</td>\n",
       "      <td>NaN</td>\n",
       "      <td>testing</td>\n",
       "      <td>NaN</td>\n",
       "      <td>NaN</td>\n",
       "      <td>KAZA Bengo</td>\n",
       "      <td>NaN</td>\n",
       "      <td>[[-9.628158501370667, -16.808534814558556, 759...</td>\n",
       "      <td>25.052441</td>\n",
       "      <td>-15.191095</td>\n",
       "      <td>min_lat=-15.1918_min_lon=25.0517_max_lat=-15.1...</td>\n",
       "      <td>eo_data_complete</td>\n",
       "      <td>0.0</td>\n",
       "      <td>0.060221</td>\n",
       "    </tr>\n",
       "    <tr>\n",
       "      <th>1</th>\n",
       "      <td>27.358089</td>\n",
       "      <td>-17.878459</td>\n",
       "      <td>2020-01-01</td>\n",
       "      <td>2021-12-31</td>\n",
       "      <td>NaN</td>\n",
       "      <td>0</td>\n",
       "      <td>NaN</td>\n",
       "      <td>testing</td>\n",
       "      <td>NaN</td>\n",
       "      <td>NaN</td>\n",
       "      <td>KAZA Bengo</td>\n",
       "      <td>NaN</td>\n",
       "      <td>[[-5.700228016629306, -11.529822327190395, 815...</td>\n",
       "      <td>27.358057</td>\n",
       "      <td>-17.878495</td>\n",
       "      <td>min_lat=-17.8792_min_lon=27.3573_max_lat=-17.8...</td>\n",
       "      <td>eo_data_complete</td>\n",
       "      <td>0.0</td>\n",
       "      <td>0.064586</td>\n",
       "    </tr>\n",
       "    <tr>\n",
       "      <th>2</th>\n",
       "      <td>26.726072</td>\n",
       "      <td>-18.395221</td>\n",
       "      <td>2020-01-01</td>\n",
       "      <td>2021-12-31</td>\n",
       "      <td>NaN</td>\n",
       "      <td>1</td>\n",
       "      <td>NaN</td>\n",
       "      <td>testing</td>\n",
       "      <td>NaN</td>\n",
       "      <td>NaN</td>\n",
       "      <td>KAZA Bengo</td>\n",
       "      <td>NaN</td>\n",
       "      <td>[[-12.505697956148616, -17.39743511607329, 122...</td>\n",
       "      <td>26.726092</td>\n",
       "      <td>-18.395206</td>\n",
       "      <td>min_lat=-18.3959_min_lon=26.7253_max_lat=-18.3...</td>\n",
       "      <td>eo_data_complete</td>\n",
       "      <td>1.0</td>\n",
       "      <td>0.640205</td>\n",
       "    </tr>\n",
       "    <tr>\n",
       "      <th>3</th>\n",
       "      <td>27.332060</td>\n",
       "      <td>-17.750969</td>\n",
       "      <td>2020-01-01</td>\n",
       "      <td>2021-12-31</td>\n",
       "      <td>NaN</td>\n",
       "      <td>1</td>\n",
       "      <td>NaN</td>\n",
       "      <td>testing</td>\n",
       "      <td>NaN</td>\n",
       "      <td>NaN</td>\n",
       "      <td>KAZA Bengo</td>\n",
       "      <td>NaN</td>\n",
       "      <td>[[-10.132055032238343, -17.744865253011067, 12...</td>\n",
       "      <td>27.332096</td>\n",
       "      <td>-17.750935</td>\n",
       "      <td>min_lat=-17.7517_min_lon=27.3313_max_lat=-17.7...</td>\n",
       "      <td>eo_data_complete</td>\n",
       "      <td>1.0</td>\n",
       "      <td>0.497576</td>\n",
       "    </tr>\n",
       "    <tr>\n",
       "      <th>4</th>\n",
       "      <td>24.223431</td>\n",
       "      <td>-17.507113</td>\n",
       "      <td>2020-01-01</td>\n",
       "      <td>2021-12-31</td>\n",
       "      <td>NaN</td>\n",
       "      <td>1</td>\n",
       "      <td>NaN</td>\n",
       "      <td>testing</td>\n",
       "      <td>NaN</td>\n",
       "      <td>NaN</td>\n",
       "      <td>KAZA Bengo</td>\n",
       "      <td>NaN</td>\n",
       "      <td>[[-12.94214040633846, -20.61706520608989, 1517...</td>\n",
       "      <td>24.223476</td>\n",
       "      <td>-17.507132</td>\n",
       "      <td>min_lat=-17.5078_min_lon=24.2227_max_lat=-17.5...</td>\n",
       "      <td>eo_data_complete</td>\n",
       "      <td>1.0</td>\n",
       "      <td>0.941447</td>\n",
       "    </tr>\n",
       "  </tbody>\n",
       "</table>\n",
       "</div>"
      ],
      "text/plain": [
       "         lon        lat  start_date    end_date  source  class_probability  \\\n",
       "0  25.052454 -15.191106  2020-01-01  2021-12-31     NaN                  0   \n",
       "1  27.358089 -17.878459  2020-01-01  2021-12-31     NaN                  0   \n",
       "2  26.726072 -18.395221  2020-01-01  2021-12-31     NaN                  1   \n",
       "3  27.332060 -17.750969  2020-01-01  2021-12-31     NaN                  1   \n",
       "4  24.223431 -17.507113  2020-01-01  2021-12-31     NaN                  1   \n",
       "\n",
       "   num_labelers   subset  analysis_duration  email     country  dataset  \\\n",
       "0           NaN  testing                NaN    NaN  KAZA Bengo      NaN   \n",
       "1           NaN  testing                NaN    NaN  KAZA Bengo      NaN   \n",
       "2           NaN  testing                NaN    NaN  KAZA Bengo      NaN   \n",
       "3           NaN  testing                NaN    NaN  KAZA Bengo      NaN   \n",
       "4           NaN  testing                NaN    NaN  KAZA Bengo      NaN   \n",
       "\n",
       "                                             eo_data     eo_lon     eo_lat  \\\n",
       "0  [[-9.628158501370667, -16.808534814558556, 759...  25.052441 -15.191095   \n",
       "1  [[-5.700228016629306, -11.529822327190395, 815...  27.358057 -17.878495   \n",
       "2  [[-12.505697956148616, -17.39743511607329, 122...  26.726092 -18.395206   \n",
       "3  [[-10.132055032238343, -17.744865253011067, 12...  27.332096 -17.750935   \n",
       "4  [[-12.94214040633846, -20.61706520608989, 1517...  24.223476 -17.507132   \n",
       "\n",
       "                                             eo_file         eo_status  crop  \\\n",
       "0  min_lat=-15.1918_min_lon=25.0517_max_lat=-15.1...  eo_data_complete   0.0   \n",
       "1  min_lat=-17.8792_min_lon=27.3573_max_lat=-17.8...  eo_data_complete   0.0   \n",
       "2  min_lat=-18.3959_min_lon=26.7253_max_lat=-18.3...  eo_data_complete   1.0   \n",
       "3  min_lat=-17.7517_min_lon=27.3313_max_lat=-17.7...  eo_data_complete   1.0   \n",
       "4  min_lat=-17.5078_min_lon=24.2227_max_lat=-17.5...  eo_data_complete   1.0   \n",
       "\n",
       "   predicted_class_probability  \n",
       "0                     0.060221  \n",
       "1                     0.064586  \n",
       "2                     0.640205  \n",
       "3                     0.497576  \n",
       "4                     0.941447  "
      ]
     },
     "execution_count": 21,
     "metadata": {},
     "output_type": "execute_result"
    }
   ],
   "source": [
    "file = 'test_df.csv'\n",
    "path = os.path.join(directory, file)\n",
    "test_df = pd.read_csv(path)\n",
    "print(test_df.shape)\n",
    "test_df.head()"
   ]
  },
  {
   "cell_type": "markdown",
   "id": "82140079-efef-4c84-a0ff-d2e658a97c1d",
   "metadata": {},
   "source": [
    "### Calculate test set accuracy at different thresholds"
   ]
  },
  {
   "cell_type": "code",
   "execution_count": 22,
   "id": "00a6cf11-cf94-45ca-a349-00b9395c1768",
   "metadata": {},
   "outputs": [
    {
     "name": "stdout",
     "output_type": "stream",
     "text": [
      "0.1 0.59\n",
      "0.2 0.69\n",
      "0.3 0.75\n",
      "0.4 0.78\n",
      "0.5 0.75\n",
      "0.6 0.74\n",
      "0.7 0.69\n",
      "0.8 0.63\n",
      "0.9 0.56\n",
      "1.0 0.5\n"
     ]
    }
   ],
   "source": [
    "accuracies_omf = calculate_metrics(metric, test_df['crop'], test_df['predicted_class_probability'], thresholds)"
   ]
  },
  {
   "cell_type": "code",
   "execution_count": 23,
   "id": "e3b7fb58-a702-4945-a917-0bee0d5ee520",
   "metadata": {},
   "outputs": [
    {
     "data": {
      "image/png": "[encoded data removed]",
      "text/plain": [
       "<Figure size 640x480 with 1 Axes>"
      ]
     },
     "metadata": {},
     "output_type": "display_data"
    }
   ],
   "source": [
    "plot_metrics('OpenMapFlow model', metric, accuracies_omf, thresholds, 'test', test_df.shape[0])"
   ]
  }
 ],
 "metadata": {
  "kernelspec": {
   "display_name": "Python 3 (ipykernel)",
   "language": "python",
   "name": "python3"
  },
  "language_info": {
   "codemirror_mode": {
    "name": "ipython",
    "version": 3
   },
   "file_extension": ".py",
   "mimetype": "text/x-python",
   "name": "python",
   "nbconvert_exporter": "python",
   "pygments_lexer": "ipython3",
   "version": "3.8.13"
  }
 },
 "nbformat": 4,
 "nbformat_minor": 5
}
