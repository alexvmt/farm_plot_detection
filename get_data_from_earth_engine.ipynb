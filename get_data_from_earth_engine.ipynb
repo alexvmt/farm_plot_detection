{
 "cells": [
  {
   "cell_type": "markdown",
   "metadata": {
    "id": "-zZuRLEl28ta"
   },
   "source": [
    "# Get data from Earth Engine\n",
    "\n",
    "Run this notebook in Google Colab."
   ]
  },
  {
   "cell_type": "markdown",
   "metadata": {
    "id": "NSNPLRs1ub66"
   },
   "source": [
    "## Setup"
   ]
  },
  {
   "cell_type": "markdown",
   "metadata": {
    "id": "LSBwNLKf1wA9"
   },
   "source": [
    "### Imports"
   ]
  },
  {
   "cell_type": "code",
   "execution_count": null,
   "metadata": {
    "id": "4PyGTNRkqr70"
   },
   "outputs": [],
   "source": [
    "from google.colab import drive\n",
    "import ee\n",
    "import tensorflow as tf\n",
    "import folium\n",
    "from pprint import pprint\n",
    "import time"
   ]
  },
  {
   "cell_type": "code",
   "execution_count": null,
   "metadata": {
    "id": "s19WKXtOKZI4"
   },
   "outputs": [],
   "source": [
    "# set seed\n",
    "tf.random.set_seed(42)"
   ]
  },
  {
   "cell_type": "markdown",
   "metadata": {
    "id": "40rZXm3sq7PG"
   },
   "source": [
    "### Authentifications"
   ]
  },
  {
   "cell_type": "code",
   "execution_count": null,
   "metadata": {
    "colab": {
     "base_uri": "https://localhost:8080/"
    },
    "executionInfo": {
     "elapsed": 22477,
     "status": "ok",
     "timestamp": 1656266481865,
     "user": {
      "displayName": "Alexander Merdian-Tarko",
      "userId": "02819705391358537583"
     },
     "user_tz": -120
    },
    "id": "ImofgyqCt7D_",
    "outputId": "5253147b-e780-47be-c4e6-1423b1563da1"
   },
   "outputs": [
    {
     "name": "stdout",
     "output_type": "stream",
     "text": [
      "Mounted at /content/drive\n"
     ]
    }
   ],
   "source": [
    "# mount drive if not already mounted\n",
    "drive.mount('/content/drive')"
   ]
  },
  {
   "cell_type": "code",
   "execution_count": null,
   "metadata": {
    "colab": {
     "base_uri": "https://localhost:8080/"
    },
    "executionInfo": {
     "elapsed": 23173,
     "status": "ok",
     "timestamp": 1656266505020,
     "user": {
      "displayName": "Alexander Merdian-Tarko",
      "userId": "02819705391358537583"
     },
     "user_tz": -120
    },
    "id": "-YUgPb38opJ-",
    "outputId": "af5a4917-a43e-4016-9b1f-2ba5a37ad372"
   },
   "outputs": [
    {
     "name": "stdout",
     "output_type": "stream",
     "text": [
      "To authorize access needed by Earth Engine, open the following URL in a web browser and follow the instructions. If the web browser does not start automatically, please manually browse the URL below.\n",
      "\n",
      "    https://code.earthengine.google.com/client-auth?scopes=https%3A//www.googleapis.com/auth/earthengine%20https%3A//www.googleapis.com/auth/devstorage.full_control&request_id=G-gRKqEn4Y9GCmlxnkXMlQQh63tfohnbAWS7ZHez6Cg&tc=VpSVNIk4RNEaZK_f48IfYd8cHUOStewOSgNUE_Jt5M4&cc=Aztr1M1LvYYWe5PtrMa14gaVKrpli5bUFsnI-soQ3oQ\n",
      "\n",
      "The authorization workflow will generate a code, which you should paste in the box below. \n",
      "Enter verification code: 4/1AX4XfWh2LqDYRr_j_ZwVE23240s2ufH97WZ3MoUyDeYHkxLVCuTkuHofY2s\n",
      "\n",
      "Successfully saved authorization token.\n"
     ]
    }
   ],
   "source": [
    "# authenticate Earth Engine user\n",
    "ee.Authenticate()\n",
    "ee.Initialize()"
   ]
  },
  {
   "cell_type": "markdown",
   "metadata": {
    "id": "KqQJsHBD2hoa"
   },
   "source": [
    "### Variables"
   ]
  },
  {
   "cell_type": "code",
   "execution_count": null,
   "metadata": {
    "id": "huAY7I9ipFQa"
   },
   "outputs": [],
   "source": [
    "S2SR = ee.ImageCollection('COPERNICUS/S2_SR')"
   ]
  },
  {
   "cell_type": "code",
   "execution_count": null,
   "metadata": {
    "id": "qUpFplLhpPoX"
   },
   "outputs": [],
   "source": [
    "BANDS = ['B2', 'B3', 'B4', 'B8']"
   ]
  },
  {
   "cell_type": "code",
   "execution_count": null,
   "metadata": {
    "id": "bKV4A5qzpSe9"
   },
   "outputs": [],
   "source": [
    "# use Earth Engine to pick a region of interest and acquire hand-drawn points as labeled data\n",
    "LABEL_DATA = ee.FeatureCollection([\n",
    "ee.Feature(\n",
    "ee.Geometry.Point([23.531761174316415, -16.661195343436308]),\n",
    "{\n",
    "\"landcover\": 0,\n",
    "\"system:index\": \"0\"\n",
    "}),\n",
    "ee.Feature(\n",
    "ee.Geometry.Point([23.53313446533204, -16.665882239293236]),\n",
    "{\n",
    "\"landcover\": 0,\n",
    "\"system:index\": \"1\"\n",
    "}),\n",
    "ee.Feature(\n",
    "ee.Geometry.Point([23.527469639892587, -16.669335668063322]),\n",
    "{\n",
    "\"landcover\": 0,\n",
    "\"system:index\": \"2\"\n",
    "}),\n",
    "ee.Feature(\n",
    "ee.Geometry.Point([23.504467015380868, -16.66884232491176]),\n",
    "{\n",
    "\"landcover\": 0,\n",
    "\"system:index\": \"3\"\n",
    "}),\n",
    "ee.Feature(\n",
    "ee.Geometry.Point([23.503608708496103, -16.657906225195877]),\n",
    "{\n",
    "\"landcover\": 0,\n",
    "\"system:index\": \"4\"\n",
    "}),\n",
    "ee.Feature(\n",
    "ee.Geometry.Point([23.49888802062989, -16.653054672669438]),\n",
    "{\n",
    "\"landcover\": 0,\n",
    "\"system:index\": \"5\"\n",
    "}),\n",
    "ee.Feature(\n",
    "ee.Geometry.Point([23.51244926940919, -16.64886085875175]),\n",
    "{\n",
    "\"landcover\": 0,\n",
    "\"system:index\": \"6\"\n",
    "}),\n",
    "ee.Feature(\n",
    "ee.Geometry.Point([23.515539174194345, -16.6727068122215]),\n",
    "{\n",
    "\"landcover\": 0,\n",
    "\"system:index\": \"7\"\n",
    "}),\n",
    "ee.Feature(\n",
    "ee.Geometry.Point([23.499231343383798, -16.679613361056266]),\n",
    "{\n",
    "\"landcover\": 0,\n",
    "\"system:index\": \"8\"\n",
    "}),\n",
    "ee.Feature(\n",
    "ee.Geometry.Point([23.528327946777353, -16.681175522038036]),\n",
    "{\n",
    "\"landcover\": 0,\n",
    "\"system:index\": \"9\"\n",
    "}),\n",
    "ee.Feature(\n",
    "ee.Geometry.Point([23.541545872802743, -16.67221347776228]),\n",
    "{\n",
    "\"landcover\": 0,\n",
    "\"system:index\": \"10\"\n",
    "}),\n",
    "ee.Feature(\n",
    "ee.Geometry.Point([23.558282857055673, -16.671720142030914]),\n",
    "{\n",
    "\"landcover\": 0,\n",
    "\"system:index\": \"11\"\n",
    "}),\n",
    "ee.Feature(\n",
    "ee.Geometry.Point([23.55287552368165, -16.673117923299035]),\n",
    "{\n",
    "\"landcover\": 0,\n",
    "\"system:index\": \"12\"\n",
    "}),\n",
    "ee.Feature(\n",
    "ee.Geometry.Point([23.54961395751954, -16.68380650115773]),\n",
    "{\n",
    "\"landcover\": 0,\n",
    "\"system:index\": \"13\"\n",
    "}),\n",
    "ee.Feature(\n",
    "ee.Geometry.Point([23.620424275512704, -16.683313195330648]),\n",
    "{\n",
    "\"landcover\": 0,\n",
    "\"system:index\": \"14\"\n",
    "}),\n",
    "ee.Feature(\n",
    "ee.Geometry.Point([23.64703178894044, -16.665306661772906]),\n",
    "{\n",
    "\"landcover\": 0,\n",
    "\"system:index\": \"15\"\n",
    "}),\n",
    "ee.Feature(\n",
    "ee.Geometry.Point([23.646688466186532, -16.657001707774718]),\n",
    "{\n",
    "\"landcover\": 0,\n",
    "\"system:index\": \"16\"\n",
    "}),\n",
    "ee.Feature(\n",
    "ee.Geometry.Point([23.640336995239267, -16.655110430270373]),\n",
    "{\n",
    "\"landcover\": 0,\n",
    "\"system:index\": \"17\"\n",
    "}),\n",
    "ee.Feature(\n",
    "ee.Geometry.Point([23.645915989990243, -16.64984764675657]),\n",
    "{\n",
    "\"landcover\": 0,\n",
    "\"system:index\": \"18\"\n",
    "}),\n",
    "ee.Feature(\n",
    "ee.Geometry.Point([23.627204899902353, -16.647133967514243]),\n",
    "{\n",
    "\"landcover\": 0,\n",
    "\"system:index\": \"19\"\n",
    "}),\n",
    "ee.Feature(\n",
    "ee.Geometry.Point([23.623943333740243, -16.64425578086784]),\n",
    "{\n",
    "\"landcover\": 0,\n",
    "\"system:index\": \"20\"\n",
    "}),\n",
    "ee.Feature(\n",
    "ee.Geometry.Point([23.614416127319345, -16.643762373102497]),\n",
    "{\n",
    "\"landcover\": 0,\n",
    "\"system:index\": \"21\"\n",
    "}),\n",
    "ee.Feature(\n",
    "ee.Geometry.Point([23.495283131713876, -16.66267542820973]),\n",
    "{\n",
    "\"landcover\": 0,\n",
    "\"system:index\": \"22\"\n",
    "}),\n",
    "ee.Feature(\n",
    "ee.Geometry.Point([23.51588249694825, -16.664319953425384]),\n",
    "{\n",
    "\"landcover\": 0,\n",
    "\"system:index\": \"23\"\n",
    "}),\n",
    "ee.Feature(\n",
    "ee.Geometry.Point([23.529701237792978, -16.652314594531834]),\n",
    "{\n",
    "\"landcover\": 0,\n",
    "\"system:index\": \"24\"\n",
    "}),\n",
    "ee.Feature(\n",
    "ee.Geometry.Point([23.564720158691415, -16.684546457511587]),\n",
    "{\n",
    "\"landcover\": 0,\n",
    "\"system:index\": \"25\"\n",
    "}),\n",
    "ee.Feature(\n",
    "ee.Geometry.Point([23.606948857421884, -16.684299805711873]),\n",
    "{\n",
    "\"landcover\": 0,\n",
    "\"system:index\": \"26\"\n",
    "}),\n",
    "ee.Feature(\n",
    "ee.Geometry.Point([23.51837158691407, -16.683477630747774]),\n",
    "{\n",
    "\"landcover\": 0,\n",
    "\"system:index\": \"27\"\n",
    "}),\n",
    "ee.Feature(\n",
    "ee.Geometry.Point([23.50987434875489, -16.68298432407211]),\n",
    "{\n",
    "\"landcover\": 0,\n",
    "\"system:index\": \"28\"\n",
    "}),\n",
    "ee.Feature(\n",
    "ee.Geometry.Point([23.495626454467782, -16.646805034085403]),\n",
    "{\n",
    "\"landcover\": 0,\n",
    "\"system:index\": \"29\"\n",
    "}),\n",
    "ee.Feature(\n",
    "ee.Geometry.Point([23.562488560791024, -16.64244661285168]),\n",
    "{\n",
    "\"landcover\": 1,\n",
    "\"system:index\": \"0\"\n",
    "}),\n",
    "ee.Feature(\n",
    "ee.Geometry.Point([23.564205174560556, -16.644502484274167]),\n",
    "{\n",
    "\"landcover\": 1,\n",
    "\"system:index\": \"1\"\n",
    "}),\n",
    "ee.Feature(\n",
    "ee.Geometry.Point([23.568067555542, -16.643515668743493]),\n",
    "{\n",
    "\"landcover\": 1,\n",
    "\"system:index\": \"2\"\n",
    "}),\n",
    "ee.Feature(\n",
    "ee.Geometry.Point([23.581628804321298, -16.64326896406694]),\n",
    "{\n",
    "\"landcover\": 1,\n",
    "\"system:index\": \"3\"\n",
    "}),\n",
    "ee.Feature(\n",
    "ee.Geometry.Point([23.584375386352548, -16.64507812432059]),\n",
    "{\n",
    "\"landcover\": 1,\n",
    "\"system:index\": \"4\"\n",
    "}),\n",
    "ee.Feature(\n",
    "ee.Geometry.Point([23.636302952880868, -16.682737670256927]),\n",
    "{\n",
    "\"landcover\": 1,\n",
    "\"system:index\": \"5\"\n",
    "}),\n",
    "ee.Feature(\n",
    "ee.Geometry.Point([23.63372803222657, -16.680353333638507]),\n",
    "{\n",
    "\"landcover\": 1,\n",
    "\"system:index\": \"6\"\n",
    "}),\n",
    "ee.Feature(\n",
    "ee.Geometry.Point([23.630123143310556, -16.6764067801125]),\n",
    "{\n",
    "\"landcover\": 1,\n",
    "\"system:index\": \"7\"\n",
    "}),\n",
    "ee.Feature(\n",
    "ee.Geometry.Point([23.627634053344735, -16.67361125542588]),\n",
    "{\n",
    "\"landcover\": 1,\n",
    "\"system:index\": \"8\"\n",
    "}),\n",
    "ee.Feature(\n",
    "ee.Geometry.Point([23.62523079406739, -16.669829009942926]),\n",
    "{\n",
    "\"landcover\": 1,\n",
    "\"system:index\": \"9\"\n",
    "}),\n",
    "ee.Feature(\n",
    "ee.Geometry.Point([23.620939259643563, -16.67081568988615]),\n",
    "{\n",
    "\"landcover\": 1,\n",
    "\"system:index\": \"10\"\n",
    "}),\n",
    "ee.Feature(\n",
    "ee.Geometry.Point([23.616390233154306, -16.673035701154205]),\n",
    "{\n",
    "\"landcover\": 1,\n",
    "\"system:index\": \"11\"\n",
    "}),\n",
    "ee.Feature(\n",
    "ee.Geometry.Point([23.614587788696298, -16.671144582069854]),\n",
    "{\n",
    "\"landcover\": 1,\n",
    "\"system:index\": \"12\"\n",
    "}),\n",
    "ee.Feature(\n",
    "ee.Geometry.Point([23.608407979125985, -16.673940142803648]),\n",
    "{\n",
    "\"landcover\": 1,\n",
    "\"system:index\": \"13\"\n",
    "}),\n",
    "ee.Feature(\n",
    "ee.Geometry.Point([23.600854878540048, -16.67517346543417]),\n",
    "{\n",
    "\"landcover\": 1,\n",
    "\"system:index\": \"14\"\n",
    "}),\n",
    "ee.Feature(\n",
    "ee.Geometry.Point([23.598709111328134, -16.67533790785075]),\n",
    "{\n",
    "\"landcover\": 1,\n",
    "\"system:index\": \"15\"\n",
    "}),\n",
    "ee.Feature(\n",
    "ee.Geometry.Point([23.590040211792, -16.671391250836617]),\n",
    "{\n",
    "\"landcover\": 1,\n",
    "\"system:index\": \"16\"\n",
    "}),\n",
    "ee.Feature(\n",
    "ee.Geometry.Point([23.58609200012208, -16.671391250836617]),\n",
    "{\n",
    "\"landcover\": 1,\n",
    "\"system:index\": \"17\"\n",
    "}),\n",
    "ee.Feature(\n",
    "ee.Geometry.Point([23.5830879260254, -16.671144582069854]),\n",
    "{\n",
    "\"landcover\": 1,\n",
    "\"system:index\": \"18\"\n",
    "}),\n",
    "ee.Feature(\n",
    "ee.Geometry.Point([23.57982635986329, -16.669829009942926]),\n",
    "{\n",
    "\"landcover\": 1,\n",
    "\"system:index\": \"19\"\n",
    "}),\n",
    "ee.Feature(\n",
    "ee.Geometry.Point([23.577680592651376, -16.667773410386694]),\n",
    "{\n",
    "\"landcover\": 1,\n",
    "\"system:index\": \"20\"\n",
    "}),\n",
    "ee.Feature(\n",
    "ee.Geometry.Point([23.574934010620126, -16.665964464511973]),\n",
    "{\n",
    "\"landcover\": 1,\n",
    "\"system:index\": \"21\"\n",
    "}),\n",
    "ee.Feature(\n",
    "ee.Geometry.Point([23.575534825439462, -16.658564053364035]),\n",
    "{\n",
    "\"landcover\": 1,\n",
    "\"system:index\": \"22\"\n",
    "}),\n",
    "ee.Feature(\n",
    "ee.Geometry.Point([23.578281407470712, -16.653136903397108]),\n",
    "{\n",
    "\"landcover\": 1,\n",
    "\"system:index\": \"23\"\n",
    "}),\n",
    "ee.Feature(\n",
    "ee.Geometry.Point([23.580942158813485, -16.65469928051537]),\n",
    "{\n",
    "\"landcover\": 1,\n",
    "\"system:index\": \"24\"\n",
    "}),\n",
    "ee.Feature(\n",
    "ee.Geometry.Point([23.58283043395997, -16.655110430270373]),\n",
    "{\n",
    "\"landcover\": 1,\n",
    "\"system:index\": \"25\"\n",
    "}),\n",
    "ee.Feature(\n",
    "ee.Geometry.Point([23.585491185302743, -16.646558333643224]),\n",
    "{\n",
    "\"landcover\": 1,\n",
    "\"system:index\": \"26\"\n",
    "}),\n",
    "ee.Feature(\n",
    "ee.Geometry.Point([23.565235142822274, -16.644502484274167]),\n",
    "{\n",
    "\"landcover\": 1,\n",
    "\"system:index\": \"27\"\n",
    "}),\n",
    "ee.Feature(\n",
    "ee.Geometry.Point([23.56832504760743, -16.645242592587703]),\n",
    "{\n",
    "\"landcover\": 1,\n",
    "\"system:index\": \"28\"\n",
    "}),\n",
    "ee.Feature(\n",
    "ee.Geometry.Point([23.570899968261728, -16.64285778890034]),\n",
    "{\n",
    "\"landcover\": 1,\n",
    "\"system:index\": \"29\"\n",
    "}),\n",
    "ee.Feature(\n",
    "ee.Geometry.Point([23.5391426135254, -16.645982698043014]),\n",
    "{\n",
    "\"landcover\": 2,\n",
    "\"system:index\": \"0\"\n",
    "}),\n",
    "ee.Feature(\n",
    "ee.Geometry.Point([23.542060856933603, -16.645489294723728]),\n",
    "{\n",
    "\"landcover\": 2,\n",
    "\"system:index\": \"1\"\n",
    "}),\n",
    "ee.Feature(\n",
    "ee.Geometry.Point([23.543262486572274, -16.645324826668325]),\n",
    "{\n",
    "\"landcover\": 2,\n",
    "\"system:index\": \"2\"\n",
    "}),\n",
    "ee.Feature(\n",
    "ee.Geometry.Point([23.549184804077157, -16.648696393590175]),\n",
    "{\n",
    "\"landcover\": 2,\n",
    "\"system:index\": \"3\"\n",
    "}),\n",
    "ee.Feature(\n",
    "ee.Geometry.Point([23.551759724731454, -16.64951871798635]),\n",
    "{\n",
    "\"landcover\": 2,\n",
    "\"system:index\": \"4\"\n",
    "}),\n",
    "ee.Feature(\n",
    "ee.Geometry.Point([23.550815587158212, -16.649025323772165]),\n",
    "{\n",
    "\"landcover\": 2,\n",
    "\"system:index\": \"5\"\n",
    "}),\n",
    "ee.Feature(\n",
    "ee.Geometry.Point([23.5501289416504, -16.65025880692519]),\n",
    "{\n",
    "\"landcover\": 2,\n",
    "\"system:index\": \"6\"\n",
    "}),\n",
    "ee.Feature(\n",
    "ee.Geometry.Point([23.54935646545411, -16.650916661359584]),\n",
    "{\n",
    "\"landcover\": 2,\n",
    "\"system:index\": \"7\"\n",
    "}),\n",
    "ee.Feature(\n",
    "ee.Geometry.Point([23.550214772338876, -16.651738976225776]),\n",
    "{\n",
    "\"landcover\": 2,\n",
    "\"system:index\": \"8\"\n",
    "}),\n",
    "ee.Feature(\n",
    "ee.Geometry.Point([23.545064931030282, -16.655357119699712]),\n",
    "{\n",
    "\"landcover\": 2,\n",
    "\"system:index\": \"9\"\n",
    "}),\n",
    "ee.Feature(\n",
    "ee.Geometry.Point([23.538713460083017, -16.657166165805442]),\n",
    "{\n",
    "\"landcover\": 2,\n",
    "\"system:index\": \"10\"\n",
    "}),\n",
    "ee.Feature(\n",
    "ee.Geometry.Point([23.536996846313485, -16.65749508144318]),\n",
    "{\n",
    "\"landcover\": 2,\n",
    "\"system:index\": \"11\"\n",
    "}),\n",
    "ee.Feature(\n",
    "ee.Geometry.Point([23.556909566040048, -16.65034103885303]),\n",
    "{\n",
    "\"landcover\": 2,\n",
    "\"system:index\": \"12\"\n",
    "}),\n",
    "ee.Feature(\n",
    "ee.Geometry.Point([23.55785370361329, -16.651245587729644]),\n",
    "{\n",
    "\"landcover\": 2,\n",
    "\"system:index\": \"13\"\n",
    "}),\n",
    "ee.Feature(\n",
    "ee.Geometry.Point([23.55836868774415, -16.656426103554953]),\n",
    "{\n",
    "\"landcover\": 2,\n",
    "\"system:index\": \"14\"\n",
    "}),\n",
    "ee.Feature(\n",
    "ee.Geometry.Point([23.560256962890634, -16.657001707774718]),\n",
    "{\n",
    "\"landcover\": 2,\n",
    "\"system:index\": \"15\"\n",
    "}),\n",
    "ee.Feature(\n",
    "ee.Geometry.Point([23.564033513183603, -16.673775699185455]),\n",
    "{\n",
    "\"landcover\": 2,\n",
    "\"system:index\": \"16\"\n",
    "}),\n",
    "ee.Feature(\n",
    "ee.Geometry.Point([23.562488560791024, -16.675255686660126]),\n",
    "{\n",
    "\"landcover\": 2,\n",
    "\"system:index\": \"17\"\n",
    "}),\n",
    "ee.Feature(\n",
    "ee.Geometry.Point([23.563518529052743, -16.67574901327369]),\n",
    "{\n",
    "\"landcover\": 2,\n",
    "\"system:index\": \"18\"\n",
    "}),\n",
    "ee.Feature(\n",
    "ee.Geometry.Point([23.561458592529306, -16.677804527134]),\n",
    "{\n",
    "\"landcover\": 2,\n",
    "\"system:index\": \"19\"\n",
    "}),\n",
    "ee.Feature(\n",
    "ee.Geometry.Point([23.59604835998536, -16.670486797137094]),\n",
    "{\n",
    "\"landcover\": 2,\n",
    "\"system:index\": \"20\"\n",
    "}),\n",
    "ee.Feature(\n",
    "ee.Geometry.Point([23.597507481689462, -16.668184532064483]),\n",
    "{\n",
    "\"landcover\": 2,\n",
    "\"system:index\": \"21\"\n",
    "}),\n",
    "ee.Feature(\n",
    "ee.Geometry.Point([23.598880772705087, -16.663333239991392]),\n",
    "{\n",
    "\"landcover\": 2,\n",
    "\"system:index\": \"22\"\n",
    "}),\n",
    "ee.Feature(\n",
    "ee.Geometry.Point([23.597679143066415, -16.66267542820973]),\n",
    "{\n",
    "\"landcover\": 2,\n",
    "\"system:index\": \"23\"\n",
    "}),\n",
    "ee.Feature(\n",
    "ee.Geometry.Point([23.564462666625985, -16.676735662683626]),\n",
    "{\n",
    "\"landcover\": 2,\n",
    "\"system:index\": \"24\"\n",
    "}),\n",
    "ee.Feature(\n",
    "ee.Geometry.Point([23.562145238037118, -16.678215627255046]),\n",
    "{\n",
    "\"landcover\": 2,\n",
    "\"system:index\": \"25\"\n",
    "}),\n",
    "ee.Feature(\n",
    "ee.Geometry.Point([23.558454518432626, -16.680024457288802]),\n",
    "{\n",
    "\"landcover\": 2,\n",
    "\"system:index\": \"26\"\n",
    "}),\n",
    "ee.Feature(\n",
    "ee.Geometry.Point([23.563432698364267, -16.663662145034536]),\n",
    "{\n",
    "\"landcover\": 2,\n",
    "\"system:index\": \"27\"\n",
    "}),\n",
    "ee.Feature(\n",
    "ee.Geometry.Point([23.56008530151368, -16.657741767800726]),\n",
    "{\n",
    "\"landcover\": 2,\n",
    "\"system:index\": \"28\"\n",
    "}),\n",
    "ee.Feature(\n",
    "ee.Geometry.Point([23.557252888793954, -16.657823996515948]),\n",
    "{\n",
    "\"landcover\": 2,\n",
    "\"system:index\": \"29\"\n",
    "})])"
   ]
  },
  {
   "cell_type": "code",
   "execution_count": null,
   "metadata": {
    "id": "i00fXEXppfUt"
   },
   "outputs": [],
   "source": [
    "LABEL = 'landcover'"
   ]
  },
  {
   "cell_type": "code",
   "execution_count": null,
   "metadata": {
    "id": "zm8n7TlVpjQg"
   },
   "outputs": [],
   "source": [
    "FEATURE_NAMES = list(BANDS)"
   ]
  },
  {
   "cell_type": "code",
   "execution_count": null,
   "metadata": {
    "id": "6ufoa5zypno6"
   },
   "outputs": [],
   "source": [
    "FEATURE_NAMES.append(LABEL)"
   ]
  },
  {
   "cell_type": "code",
   "execution_count": null,
   "metadata": {
    "id": "ozMdLf-EpAPu"
   },
   "outputs": [],
   "source": [
    "OUTPUT_FOLDER = 'farm_plot_detection'"
   ]
  },
  {
   "cell_type": "code",
   "execution_count": null,
   "metadata": {
    "id": "aL-vV7vCpn8t"
   },
   "outputs": [],
   "source": [
    "TRAIN_FILE_PREFIX = 'train'"
   ]
  },
  {
   "cell_type": "code",
   "execution_count": null,
   "metadata": {
    "id": "E5d9GZ-V3OjK"
   },
   "outputs": [],
   "source": [
    "TEST_FILE_PREFIX = 'test'"
   ]
  },
  {
   "cell_type": "code",
   "execution_count": null,
   "metadata": {
    "id": "qCRz6I9kpua1"
   },
   "outputs": [],
   "source": [
    "FILE_EXTENSION = '.tfrecord.gz'"
   ]
  },
  {
   "cell_type": "code",
   "execution_count": null,
   "metadata": {
    "id": "9DfAq_MOpwkj"
   },
   "outputs": [],
   "source": [
    "TRAIN_FILE_PATH = 'drive/MyDrive/' + OUTPUT_FOLDER + '/' + TRAIN_FILE_PREFIX + FILE_EXTENSION"
   ]
  },
  {
   "cell_type": "code",
   "execution_count": null,
   "metadata": {
    "id": "fQqS3rop3Qlg"
   },
   "outputs": [],
   "source": [
    "TEST_FILE_PATH = 'drive/MyDrive/' + OUTPUT_FOLDER + '/' + TEST_FILE_PREFIX + FILE_EXTENSION"
   ]
  },
  {
   "cell_type": "code",
   "execution_count": null,
   "metadata": {
    "id": "VdQoAu2Hp41K"
   },
   "outputs": [],
   "source": [
    "IMAGE_FILE_PREFIX = 'image'"
   ]
  },
  {
   "cell_type": "code",
   "execution_count": null,
   "metadata": {
    "id": "FXH9Vdnzp8_R"
   },
   "outputs": [],
   "source": [
    "# sample region Sioma, including all the hand-drawn points from above\n",
    "# use Earth Engine to determine coordinates\n",
    "EXPORT_REGION = ee.Geometry.Rectangle([23.49305, -16.68922, 23.65081, -16.63988])"
   ]
  },
  {
   "cell_type": "markdown",
   "metadata": {
    "id": "-yLYRpCg15l3"
   },
   "source": [
    "### Functions"
   ]
  },
  {
   "cell_type": "code",
   "execution_count": null,
   "metadata": {
    "id": "TDV0WbQS9krn"
   },
   "outputs": [],
   "source": [
    "# cloud masking function\n",
    "\n",
    "def maskS2clouds(image):\n",
    "\n",
    "  qa = image.select('QA60')\n",
    "  \n",
    "  cloudBitMask = ee.Number(1).pow(10).int()\n",
    "  cirrusBitMask = ee.Number(1).pow(11).int()\n",
    "  \n",
    "  mask = qa.bitwiseAnd(cloudBitMask).eq(0).And(\n",
    "    qa.bitwiseAnd(cirrusBitMask).eq(0))\n",
    "  \n",
    "  return image.updateMask(mask).select(BANDS).divide(10000)"
   ]
  },
  {
   "cell_type": "markdown",
   "metadata": {
    "id": "du3vh9YE2nln"
   },
   "source": [
    "## Get training and testing data from Earth Engine"
   ]
  },
  {
   "cell_type": "code",
   "execution_count": null,
   "metadata": {
    "id": "14aoUI069qch"
   },
   "outputs": [],
   "source": [
    "# image input data is a cloud-masked mean composite\n",
    "\n",
    "start_date = '2020-04-01'\n",
    "end_date = '2020-04-30'\n",
    "\n",
    "image = S2SR.filterDate(start_date, end_date).filter(ee.Filter.lt('CLOUDY_PIXEL_PERCENTAGE', 10)).map(maskS2clouds).mean()"
   ]
  },
  {
   "cell_type": "code",
   "execution_count": null,
   "metadata": {
    "colab": {
     "base_uri": "https://localhost:8080/",
     "height": 1000
    },
    "executionInfo": {
     "elapsed": 444,
     "status": "ok",
     "timestamp": 1656266510724,
     "user": {
      "displayName": "Alexander Merdian-Tarko",
      "userId": "02819705391358537583"
     },
     "user_tz": -120
    },
    "id": "ebS8frpnqFKS",
    "outputId": "e6e39b39-51c5-4eec-df79-bfbffa2af200"
   },
   "outputs": [
    {
     "data": {
      "text/html": [
       "<div style=\"width:100%;\"><div style=\"position:relative;width:100%;height:0;padding-bottom:60%;\"><span style=\"color:#565656\">Make this Notebook Trusted to load map: File -> Trust Notebook</span><iframe srcdoc=\"&lt;!DOCTYPE html&gt;\n",
       "&lt;head&gt;    \n",
       "    &lt;meta http-equiv=&quot;content-type&quot; content=&quot;text/html; charset=UTF-8&quot; /&gt;\n",
       "    &lt;script&gt;L_PREFER_CANVAS=false; L_NO_TOUCH=false; L_DISABLE_3D=false;&lt;/script&gt;\n",
       "    &lt;script src=&quot;https://cdn.jsdelivr.net/npm/leaflet@1.4.0/dist/leaflet.js&quot;&gt;&lt;/script&gt;\n",
       "    &lt;script src=&quot;https://code.jquery.com/jquery-1.12.4.min.js&quot;&gt;&lt;/script&gt;\n",
       "    &lt;script src=&quot;https://maxcdn.bootstrapcdn.com/bootstrap/3.2.0/js/bootstrap.min.js&quot;&gt;&lt;/script&gt;\n",
       "    &lt;script src=&quot;https://cdnjs.cloudflare.com/ajax/libs/Leaflet.awesome-markers/2.0.2/leaflet.awesome-markers.js&quot;&gt;&lt;/script&gt;\n",
       "    &lt;link rel=&quot;stylesheet&quot; href=&quot;https://cdn.jsdelivr.net/npm/leaflet@1.4.0/dist/leaflet.css&quot;/&gt;\n",
       "    &lt;link rel=&quot;stylesheet&quot; href=&quot;https://maxcdn.bootstrapcdn.com/bootstrap/3.2.0/css/bootstrap.min.css&quot;/&gt;\n",
       "    &lt;link rel=&quot;stylesheet&quot; href=&quot;https://maxcdn.bootstrapcdn.com/bootstrap/3.2.0/css/bootstrap-theme.min.css&quot;/&gt;\n",
       "    &lt;link rel=&quot;stylesheet&quot; href=&quot;https://maxcdn.bootstrapcdn.com/font-awesome/4.6.3/css/font-awesome.min.css&quot;/&gt;\n",
       "    &lt;link rel=&quot;stylesheet&quot; href=&quot;https://cdnjs.cloudflare.com/ajax/libs/Leaflet.awesome-markers/2.0.2/leaflet.awesome-markers.css&quot;/&gt;\n",
       "    &lt;link rel=&quot;stylesheet&quot; href=&quot;https://rawcdn.githack.com/python-visualization/folium/master/folium/templates/leaflet.awesome.rotate.css&quot;/&gt;\n",
       "    &lt;style&gt;html, body {width: 100%;height: 100%;margin: 0;padding: 0;}&lt;/style&gt;\n",
       "    &lt;style&gt;#map {position:absolute;top:0;bottom:0;right:0;left:0;}&lt;/style&gt;\n",
       "    \n",
       "    &lt;meta name=&quot;viewport&quot; content=&quot;width=device-width,\n",
       "        initial-scale=1.0, maximum-scale=1.0, user-scalable=no&quot; /&gt;\n",
       "    &lt;style&gt;#map_53f26d430b777034f9a4aaac5ec6dc81 {\n",
       "        position: relative;\n",
       "        width: 100.0%;\n",
       "        height: 100.0%;\n",
       "        left: 0.0%;\n",
       "        top: 0.0%;\n",
       "        }\n",
       "    &lt;/style&gt;\n",
       "&lt;/head&gt;\n",
       "&lt;body&gt;    \n",
       "    \n",
       "    &lt;div class=&quot;folium-map&quot; id=&quot;map_53f26d430b777034f9a4aaac5ec6dc81&quot; &gt;&lt;/div&gt;\n",
       "&lt;/body&gt;\n",
       "&lt;script&gt;    \n",
       "    \n",
       "    \n",
       "        var bounds = null;\n",
       "    \n",
       "\n",
       "    var map_53f26d430b777034f9a4aaac5ec6dc81 = L.map(\n",
       "        &#x27;map_53f26d430b777034f9a4aaac5ec6dc81&#x27;, {\n",
       "        center: [-16.6637, 23.56996],\n",
       "        zoom: 14,\n",
       "        maxBounds: bounds,\n",
       "        layers: [],\n",
       "        worldCopyJump: false,\n",
       "        crs: L.CRS.EPSG3857,\n",
       "        zoomControl: true,\n",
       "        });\n",
       "\n",
       "\n",
       "    \n",
       "    var tile_layer_2bc2aa5133a5c28763e98917a6d8d84f = L.tileLayer(\n",
       "        &#x27;https://{s}.tile.openstreetmap.org/{z}/{x}/{y}.png&#x27;,\n",
       "        {\n",
       "        &quot;attribution&quot;: null,\n",
       "        &quot;detectRetina&quot;: false,\n",
       "        &quot;maxNativeZoom&quot;: 18,\n",
       "        &quot;maxZoom&quot;: 18,\n",
       "        &quot;minZoom&quot;: 0,\n",
       "        &quot;noWrap&quot;: false,\n",
       "        &quot;opacity&quot;: 1,\n",
       "        &quot;subdomains&quot;: &quot;abc&quot;,\n",
       "        &quot;tms&quot;: false\n",
       "}).addTo(map_53f26d430b777034f9a4aaac5ec6dc81);\n",
       "    var tile_layer_03a210a33b36e47c1b71bd571c1c6297 = L.tileLayer(\n",
       "        &#x27;https://earthengine.googleapis.com/v1alpha/projects/earthengine-legacy/maps/7a5b78aa0e5ae0e4213d7c77bf59a664-30e581506844d3a6af9baf306e0f886d/tiles/{z}/{x}/{y}&#x27;,\n",
       "        {\n",
       "        &quot;attribution&quot;: &quot;Map Data &amp;copy; &lt;a href=\\&quot;https://earthengine.google.com/\\&quot;&gt;Google Earth Engine&lt;/a&gt;&quot;,\n",
       "        &quot;detectRetina&quot;: false,\n",
       "        &quot;maxNativeZoom&quot;: 18,\n",
       "        &quot;maxZoom&quot;: 18,\n",
       "        &quot;minZoom&quot;: 0,\n",
       "        &quot;noWrap&quot;: false,\n",
       "        &quot;opacity&quot;: 1,\n",
       "        &quot;subdomains&quot;: &quot;abc&quot;,\n",
       "        &quot;tms&quot;: false\n",
       "}).addTo(map_53f26d430b777034f9a4aaac5ec6dc81);\n",
       "    \n",
       "            var layer_control_479200ac40cff06ba03d2d80a712c2a3 = {\n",
       "                base_layers : { &quot;openstreetmap&quot; : tile_layer_2bc2aa5133a5c28763e98917a6d8d84f, },\n",
       "                overlays : { &quot;mean composite&quot; : tile_layer_03a210a33b36e47c1b71bd571c1c6297, }\n",
       "                };\n",
       "            L.control.layers(\n",
       "                layer_control_479200ac40cff06ba03d2d80a712c2a3.base_layers,\n",
       "                layer_control_479200ac40cff06ba03d2d80a712c2a3.overlays,\n",
       "                {position: &#x27;topright&#x27;,\n",
       "                 collapsed: true,\n",
       "                 autoZIndex: true\n",
       "                }).addTo(map_53f26d430b777034f9a4aaac5ec6dc81);\n",
       "            \n",
       "        \n",
       "&lt;/script&gt;\" style=\"position:absolute;width:100%;height:100%;left:0;top:0;border:none !important;\" allowfullscreen webkitallowfullscreen mozallowfullscreen></iframe></div></div>"
      ],
      "text/plain": [
       "<folium.folium.Map at 0x7f26c4fa4a90>"
      ]
     },
     "execution_count": 21,
     "metadata": {},
     "output_type": "execute_result"
    }
   ],
   "source": [
    "# visualize composite\n",
    "# set coordinates to center of region of interest\n",
    "\n",
    "mapid = image.getMapId({'bands': ['B4', 'B3', 'B2'], 'min': 0, 'max': 0.3})\n",
    "\n",
    "map = folium.Map(location=[-16.6637, 23.56996], zoom_start=14)\n",
    "\n",
    "folium.TileLayer(\n",
    "    tiles=mapid['tile_fetcher'].url_format,\n",
    "    attr='Map Data &copy; <a href=\"https://earthengine.google.com/\">Google Earth Engine</a>',\n",
    "    overlay=True,\n",
    "    name='mean composite',\n",
    "  ).add_to(map)\n",
    "\n",
    "map.add_child(folium.LayerControl())\n",
    "\n",
    "map"
   ]
  },
  {
   "cell_type": "code",
   "execution_count": null,
   "metadata": {
    "id": "xCesgWYx_leH"
   },
   "outputs": [],
   "source": [
    "# sample image at labeled points and add random column\n",
    "sample = image.sampleRegions(collection=LABEL_DATA, properties=[LABEL], scale=10).randomColumn()"
   ]
  },
  {
   "cell_type": "code",
   "execution_count": null,
   "metadata": {
    "id": "THjeDHpy_ntp"
   },
   "outputs": [],
   "source": [
    "# partition sample approximately 70-30\n",
    "training = sample.filter(ee.Filter.lt('random', 0.7))\n",
    "testing = sample.filter(ee.Filter.gte('random', 0.7))"
   ]
  },
  {
   "cell_type": "code",
   "execution_count": null,
   "metadata": {
    "colab": {
     "base_uri": "https://localhost:8080/"
    },
    "executionInfo": {
     "elapsed": 5169,
     "status": "ok",
     "timestamp": 1656266515845,
     "user": {
      "displayName": "Alexander Merdian-Tarko",
      "userId": "02819705391358537583"
     },
     "user_tz": -120
    },
    "id": "sTqazalYqVYr",
    "outputId": "799ab469-dde1-4e79-e8a4-ba7ef8f04cb8"
   },
   "outputs": [
    {
     "name": "stdout",
     "output_type": "stream",
     "text": [
      "{'training': {'geometry': None,\n",
      "              'id': '0_0',\n",
      "              'properties': {'B2': 0.031950000673532486,\n",
      "                             'B3': 0.053050000220537186,\n",
      "                             'B4': 0.03505000099539757,\n",
      "                             'B8': 0.24230000376701355,\n",
      "                             'landcover': 0,\n",
      "                             'random': 0.4193902874700327},\n",
      "              'type': 'Feature'}}\n",
      "{'testing': {'geometry': None,\n",
      "             'id': '1_0',\n",
      "             'properties': {'B2': 0.043549999594688416,\n",
      "                            'B3': 0.06289999932050705,\n",
      "                            'B4': 0.06185000017285347,\n",
      "                            'B8': 0.2425999939441681,\n",
      "                            'landcover': 0,\n",
      "                            'random': 0.9144222112608136},\n",
      "             'type': 'Feature'}}\n"
     ]
    }
   ],
   "source": [
    "# print first couple points for verification\n",
    "pprint({'training': training.first().getInfo()})\n",
    "pprint({'testing': testing.first().getInfo()})"
   ]
  },
  {
   "cell_type": "code",
   "execution_count": null,
   "metadata": {
    "id": "UX4XHHmOqk0I"
   },
   "outputs": [],
   "source": [
    "# create batch asks\n",
    "\n",
    "training_task = ee.batch.Export.table.toDrive(\n",
    "    collection=training,\n",
    "    description='Training Export',\n",
    "    fileNamePrefix=TRAIN_FILE_PREFIX,\n",
    "    folder=OUTPUT_FOLDER,\n",
    "    fileFormat='TFRecord',\n",
    "    selectors=FEATURE_NAMES)\n",
    "\n",
    "testing_task = ee.batch.Export.table.toDrive(\n",
    "    collection=testing,\n",
    "    description='Testing Export',\n",
    "    fileNamePrefix=TEST_FILE_PREFIX,\n",
    "    folder=OUTPUT_FOLDER,\n",
    "    fileFormat='TFRecord',\n",
    "    selectors=FEATURE_NAMES)"
   ]
  },
  {
   "cell_type": "code",
   "execution_count": null,
   "metadata": {
    "id": "VRtXxBXerEan"
   },
   "outputs": [],
   "source": [
    "# start batch tasks\n",
    "training_task.start()\n",
    "testing_task.start()"
   ]
  },
  {
   "cell_type": "markdown",
   "metadata": {
    "id": "A9F65TD3g0Mz"
   },
   "source": [
    "You can check the progess and status of your task in the [Task Manager](https://code.earthengine.google.com/tasks). Wait until your tasks are completed before you continue."
   ]
  },
  {
   "cell_type": "code",
   "execution_count": null,
   "metadata": {
    "colab": {
     "base_uri": "https://localhost:8080/"
    },
    "executionInfo": {
     "elapsed": 351,
     "status": "ok",
     "timestamp": 1656266565729,
     "user": {
      "displayName": "Alexander Merdian-Tarko",
      "userId": "02819705391358537583"
     },
     "user_tz": -120
    },
    "id": "AFD71Bf4rIP6",
    "outputId": "1175cf36-c4b0-4f92-d170-6e80ebf4b974"
   },
   "outputs": [
    {
     "name": "stdout",
     "output_type": "stream",
     "text": [
      "Found training file.\n",
      "Found testing file.\n"
     ]
    }
   ],
   "source": [
    "# verify that training and testing files exist\n",
    "print('Found training file.' if tf.io.gfile.exists(TRAIN_FILE_PATH) \n",
    "    else 'No training file found.')\n",
    "print('Found testing file.' if tf.io.gfile.exists(TEST_FILE_PATH) \n",
    "    else 'No testing file found.')"
   ]
  },
  {
   "cell_type": "code",
   "execution_count": null,
   "metadata": {
    "id": "teOHVFJSrRmM"
   },
   "outputs": [],
   "source": [
    "# specify patch and file dimensions\n",
    "image_export_options = {\n",
    "    'patchDimensions': [256, 256],\n",
    "    'maxFileSize': 104857600,\n",
    "    'compressed': True\n",
    "    }"
   ]
  },
  {
   "cell_type": "code",
   "execution_count": null,
   "metadata": {
    "id": "85cdxJQmhHo3"
   },
   "outputs": [],
   "source": [
    "# setup export task\n",
    "image_task = ee.batch.Export.image.toDrive(\n",
    "    image=image,\n",
    "    description='Image Export',\n",
    "    fileNamePrefix=IMAGE_FILE_PREFIX,\n",
    "    folder=OUTPUT_FOLDER,\n",
    "    scale=10,\n",
    "    fileFormat='TFRecord',\n",
    "    region=EXPORT_REGION.toGeoJSON()['coordinates'],\n",
    "    formatOptions=image_export_options\n",
    "    )"
   ]
  },
  {
   "cell_type": "code",
   "execution_count": null,
   "metadata": {
    "id": "yQxJFSZrrbJ9"
   },
   "outputs": [],
   "source": [
    "# start export task\n",
    "image_task.start()"
   ]
  },
  {
   "cell_type": "code",
   "execution_count": null,
   "metadata": {
    "colab": {
     "base_uri": "https://localhost:8080/"
    },
    "executionInfo": {
     "elapsed": 31001,
     "status": "ok",
     "timestamp": 1656266548984,
     "user": {
      "displayName": "Alexander Merdian-Tarko",
      "userId": "02819705391358537583"
     },
     "user_tz": -120
    },
    "id": "WLV7yBGareST",
    "outputId": "727b1909-111c-4f17-afd5-d5287157ad75"
   },
   "outputs": [
    {
     "name": "stdout",
     "output_type": "stream",
     "text": [
      "Polling for task (id: ZDLDQFS3LXA53FCIHKN24JOV).\n",
      "Done with image export.\n"
     ]
    }
   ],
   "source": [
    "# check progess and status of task\n",
    "\n",
    "while image_task.active():\n",
    "  print('Polling for task (id: {}).'.format(image_task.id))\n",
    "  time.sleep(30)\n",
    "\n",
    "print('Done with image export.')"
   ]
  }
 ],
 "metadata": {
  "colab": {
   "authorship_tag": "ABX9TyMkv8UzTQtfzM6BTnIdPvPi",
   "collapsed_sections": [],
   "mount_file_id": "1R3QAUTKxURaEdwhReaQeoEEvCKHJblu0",
   "name": "01_get_data_from_earth_engine.ipynb",
   "provenance": []
  },
  "kernelspec": {
   "display_name": "Python 3 (ipykernel)",
   "language": "python",
   "name": "python3"
  },
  "language_info": {
   "codemirror_mode": {
    "name": "ipython",
    "version": 3
   },
   "file_extension": ".py",
   "mimetype": "text/x-python",
   "name": "python",
   "nbconvert_exporter": "python",
   "pygments_lexer": "ipython3",
   "version": "3.8.13"
  }
 },
 "nbformat": 4,
 "nbformat_minor": 4
}
