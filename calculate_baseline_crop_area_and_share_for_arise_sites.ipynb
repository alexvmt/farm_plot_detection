{
 "cells": [
  {
   "cell_type": "markdown",
   "id": "62097e18-36eb-4877-a333-06c4415c5f13",
   "metadata": {},
   "source": [
    "# Calculate crop area and share for 3 specific ARISE sites within Bengo based on the KAZA Land Cover 2020 dataset\n",
    "\n",
    "These values can be used as a baseline to compare to the values derived from the predictions from random forest and OpenMapFlow."
   ]
  },
  {
   "cell_type": "markdown",
   "id": "9ffd83c6-c205-47d7-a9e7-af22f3ed34b3",
   "metadata": {},
   "source": [
    "## Setup"
   ]
  },
  {
   "cell_type": "code",
   "execution_count": 1,
   "id": "5a11556b-da5f-4a98-aeeb-b27d58fad0c1",
   "metadata": {},
   "outputs": [],
   "source": [
    "import os\n",
    "import rasterio\n",
    "import rasterio.mask\n",
    "import geopandas as gpd\n",
    "import numpy as np\n",
    "import pandas as pd"
   ]
  },
  {
   "cell_type": "code",
   "execution_count": 2,
   "id": "79934fea-a8d0-49d2-b590-2f3f69236280",
   "metadata": {},
   "outputs": [],
   "source": [
    "def load_and_preprocess_roi(roi_path, roi_region, roi_names):\n",
    "    \n",
    "    roi = gpd.read_file(os.path.join(roi_path, roi_region + '.shp'))\n",
    "    roi.columns = roi.columns.str.lower()\n",
    "    roi = roi[['name', 'geometry']]\n",
    "    roi = roi[roi['name'].isin(roi_names)]\n",
    "    roi = roi.dissolve()\n",
    "    roi['area_km2'] = roi['geometry'].to_crs({'proj':'cea'}).area[0] / 10**6\n",
    "    roi = roi.to_crs(epsg=32734)\n",
    "    \n",
    "    return roi"
   ]
  },
  {
   "cell_type": "code",
   "execution_count": 3,
   "id": "1c357c32-fc6e-40e0-97f3-dd44f3f92fcb",
   "metadata": {},
   "outputs": [],
   "source": [
    "def clip_raster(raster_file_path, region_geodataframe):\n",
    "\n",
    "    with rasterio.open(raster_file_path) as src:\n",
    "        out_image, out_transform = rasterio.mask.mask(src, [region_geodataframe.loc[0]['geometry']], crop=True)\n",
    "        out_meta = src.meta\n",
    "\n",
    "        out_meta.update(\n",
    "            {\n",
    "                'height': out_image.shape[1],\n",
    "                'width': out_image.shape[2],\n",
    "                'transform': out_transform,\n",
    "            }\n",
    "        )\n",
    "        \n",
    "        out_file_path = raster_file_path.replace(raster_file_path.split('/')[-1], '')\n",
    "        out_file_name = 'temp.tif'\n",
    "\n",
    "        with rasterio.open(os.path.join(out_file_path, out_file_name), 'w', **out_meta) as dest:\n",
    "            dest.write(out_image)\n",
    "    \n",
    "    return out_transform"
   ]
  },
  {
   "cell_type": "code",
   "execution_count": 4,
   "id": "3d949a86-81e0-49dc-aa1d-45b1d5e9943b",
   "metadata": {},
   "outputs": [],
   "source": [
    "def extract_data_from_raster(raster_file_path):\n",
    "    \n",
    "    raster = rasterio.open(raster_file_path)    \n",
    "    masked_array = raster.read(1, masked=True)\n",
    "    \n",
    "    no_data = raster.nodata    \n",
    "    data = masked_array.data\n",
    "    \n",
    "    row, col = np.where(data != no_data)\n",
    "    land_cover_class = np.extract(data != no_data, data)\n",
    "    \n",
    "    dataframe = pd.DataFrame({'col': col, 'row': row, 'land_cover_class': land_cover_class})\n",
    "    \n",
    "    return dataframe"
   ]
  },
  {
   "cell_type": "code",
   "execution_count": 5,
   "id": "529af399-20fd-45ee-a2f4-3c65d4482e46",
   "metadata": {},
   "outputs": [],
   "source": [
    "def calculate_crop_area_and_share(roi_path, roi_region, roi_names, raster_file_path, raster_path):\n",
    "    \n",
    "    # load and preprocess roi\n",
    "    roi = load_and_preprocess_roi(roi_path, roi_region, roi_names)\n",
    "    \n",
    "    # clip raster\n",
    "    out_transform = clip_raster(raster_file_path, roi)\n",
    "    \n",
    "    # extract data\n",
    "    df = extract_data_from_raster(os.path.join(raster_path, 'temp.tif'))\n",
    "    \n",
    "    # get amount of crop pixels in roi\n",
    "    crop_pixels = df[df['land_cover_class'].isin([40])].shape[0]\n",
    "    \n",
    "    # calculate crop share\n",
    "    crop_share = crop_pixels / df.shape[0]\n",
    "    \n",
    "    # calculate crop area\n",
    "    crop_area = roi.loc[0]['area_km2'] * crop_share\n",
    "    \n",
    "    print(f'ROI region: {roi_region}\\nROI names: {roi_names}\\nCrop area: {crop_area:.2f} km²\\nCrop share: {crop_share:.2%}\\n')"
   ]
  },
  {
   "cell_type": "markdown",
   "id": "ffd361d7-17ef-4dc2-a457-e0300a41a5de",
   "metadata": {},
   "source": [
    "## Load KAZA Land Cover 2020 dataset"
   ]
  },
  {
   "cell_type": "code",
   "execution_count": 6,
   "id": "7be5981d-f98f-4832-a689-3854751b2569",
   "metadata": {},
   "outputs": [],
   "source": [
    "raster_path = '../raw_data/kaza_land_cover_2020'\n",
    "raster_file = 'Land_Cover_KAZA_2021_TFCA.tif'\n",
    "raster_file_path = os.path.join(raster_path, raster_file)\n",
    "kaza_land_cover_2020 = rasterio.open(raster_file_path)"
   ]
  },
  {
   "cell_type": "markdown",
   "id": "d89545b3-6497-42d8-b653-5dd36b333d80",
   "metadata": {},
   "source": [
    "## Calculate crop area and share for regions of interest"
   ]
  },
  {
   "cell_type": "code",
   "execution_count": 7,
   "id": "8cc20a83-ece7-4cf7-83dc-97c81ce9ecf5",
   "metadata": {},
   "outputs": [],
   "source": [
    "roi_path = '../raw_data/arise_sites'"
   ]
  },
  {
   "cell_type": "code",
   "execution_count": 8,
   "id": "11557910-68f9-43a6-94a4-e6a8c2e73fb4",
   "metadata": {},
   "outputs": [
    {
     "name": "stdout",
     "output_type": "stream",
     "text": [
      "ROI region: NAM_sites_bengo\n",
      "ROI names: ['Sikunga']\n",
      "Crop area: 0.42 km²\n",
      "Crop share: 0.15%\n",
      "\n",
      "CPU times: user 645 ms, sys: 264 ms, total: 909 ms\n",
      "Wall time: 912 ms\n"
     ]
    }
   ],
   "source": [
    "%%time\n",
    "calculate_crop_area_and_share(roi_path, 'NAM_sites_bengo', ['Sikunga'], raster_file_path, raster_path)"
   ]
  },
  {
   "cell_type": "code",
   "execution_count": 9,
   "id": "281c5f41-b0bb-49e2-8da7-c880f9faf620",
   "metadata": {},
   "outputs": [
    {
     "name": "stdout",
     "output_type": "stream",
     "text": [
      "ROI region: ZAM_sites_bengo\n",
      "ROI names: ['Nyawa']\n",
      "Crop area: 154.28 km²\n",
      "Crop share: 36.71%\n",
      "\n",
      "CPU times: user 795 ms, sys: 227 ms, total: 1.02 s\n",
      "Wall time: 1.03 s\n"
     ]
    }
   ],
   "source": [
    "%%time\n",
    "calculate_crop_area_and_share(roi_path, 'ZAM_sites_bengo', ['Nyawa'], raster_file_path, raster_path)"
   ]
  },
  {
   "cell_type": "code",
   "execution_count": 10,
   "id": "9f94f7e7-8e99-45c0-a237-694a1dcde5dc",
   "metadata": {},
   "outputs": [
    {
     "name": "stdout",
     "output_type": "stream",
     "text": [
      "ROI region: ZIM_sites_bengo\n",
      "ROI names: ['Kachechete', 'Chikandakubi', 'Chidobe', 'Nemananga']\n",
      "Crop area: 177.64 km²\n",
      "Crop share: 24.66%\n",
      "\n",
      "CPU times: user 1.11 s, sys: 325 ms, total: 1.43 s\n",
      "Wall time: 1.44 s\n"
     ]
    }
   ],
   "source": [
    "%%time\n",
    "calculate_crop_area_and_share(roi_path, 'ZIM_sites_bengo', ['Kachechete', 'Chikandakubi', 'Chidobe', 'Nemananga'], raster_file_path, raster_path)"
   ]
  }
 ],
 "metadata": {
  "kernelspec": {
   "display_name": "Python 3 (ipykernel)",
   "language": "python",
   "name": "python3"
  },
  "language_info": {
   "codemirror_mode": {
    "name": "ipython",
    "version": 3
   },
   "file_extension": ".py",
   "mimetype": "text/x-python",
   "name": "python",
   "nbconvert_exporter": "python",
   "pygments_lexer": "ipython3",
   "version": "3.8.13"
  }
 },
 "nbformat": 4,
 "nbformat_minor": 5
}
